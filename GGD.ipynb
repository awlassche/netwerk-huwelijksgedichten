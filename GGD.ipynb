{
 "cells": [
  {
   "cell_type": "code",
   "execution_count": 6,
   "metadata": {},
   "outputs": [
    {
     "name": "stdout",
     "output_type": "stream",
     "text": [
      "(3933, 27)\n"
     ]
    }
   ],
   "source": [
    "import pandas as pd\n",
    "import matplotlib.pyplot as plt\n",
    "# plt.style.use('seaborn-whitegrid')\n",
    "import seaborn\n",
    "\n",
    "\n",
    "df = pd.read_csv('gedichtenGGD_STCN.csv', sep=';', index_col=0)\n",
    "print(df.shape)"
   ]
  },
  {
   "cell_type": "code",
   "execution_count": 7,
   "metadata": {},
   "outputs": [
    {
     "name": "stdout",
     "output_type": "stream",
     "text": [
      "   Jaar             Bruidegom                         Bruid          Drukker  \\\n",
      "0                                                                              \n",
      "1  1691  Samuel van der Lanen      Maria Magdalena Meermans    Reinier Leers   \n",
      "2  1738     Jacobus Willemsen      Elizabeth Verwout Noiret  Petrus Dathenus   \n",
      "3  1744         Johan Schorer  Petronella Maria de Beaufort  Petrus Dathenus   \n",
      "4  1693       Pieter Koolaert             Elizabeth Hoofman        Lescailje   \n",
      "5  1702         Herman Lufneu                  Anna Amsincq       Barent Bos   \n",
      "\n",
      "      Plaats                 Auteur1                 Auteur2  \\\n",
      "0                                                              \n",
      "1      Hoorn           Pieter Rabus                      NaN   \n",
      "2  Amsterdam       Pieter de La Ruë        Johannes Plevier    \n",
      "3  Amsterdam   David Fiers Kappeine       Johan Steengracht    \n",
      "4        NaN    Katharina Lescailje   David van Hoogstraten    \n",
      "5      Wesel  David van Hoogstraten            Willem Rabus    \n",
      "\n",
      "                   Auteur3              Auteur4                     Auteur5  \\\n",
      "0                                                                             \n",
      "1                      NaN                  NaN                         NaN   \n",
      "2           Isaac Schorer      Nicolaus Barkey   Johannes Nicolaas Treytel    \n",
      "3  Lucas Frederik Schorer      Petrus Dathenus                                \n",
      "4            Joan Pluimer   Hermannus Angelkot                 Jacob Storm    \n",
      "5                      NaN                  NaN                         NaN   \n",
      "\n",
      "    ...    Auteur13 Auteur14 Auteur15 Auteur16 Auteur17 Auteur18 Auteur19  \\\n",
      "0   ...                                                                     \n",
      "1   ...         NaN      NaN      NaN      NaN      NaN      NaN      NaN   \n",
      "2   ...         NaN      NaN      NaN      NaN      NaN      NaN      NaN   \n",
      "3   ...         NaN      NaN      NaN      NaN      NaN      NaN      NaN   \n",
      "4   ...         NaN      NaN      NaN      NaN      NaN      NaN      NaN   \n",
      "5   ...         NaN      NaN      NaN      NaN      NaN      NaN      NaN   \n",
      "\n",
      "  Auteur20 Auteur21 Auteur22  \n",
      "0                             \n",
      "1      NaN      NaN      NaN  \n",
      "2      NaN      NaN      NaN  \n",
      "3      NaN      NaN      NaN  \n",
      "4      NaN      NaN      NaN  \n",
      "5      NaN      NaN      NaN  \n",
      "\n",
      "[5 rows x 27 columns]\n"
     ]
    }
   ],
   "source": [
    "print(df.head(5))"
   ]
  },
  {
   "cell_type": "code",
   "execution_count": 8,
   "metadata": {},
   "outputs": [
    {
     "name": "stdout",
     "output_type": "stream",
     "text": [
      "Index(['Jaar', 'Bruidegom', 'Bruid', 'Drukker', 'Plaats', 'Auteur1', 'Auteur2',\n",
      "       'Auteur3', 'Auteur4', 'Auteur5', 'Auteur6', 'Auteur7', 'Auteur8',\n",
      "       'Auteur9', 'Auteur10', 'Auteur11', 'Auteur12', 'Auteur13', 'Auteur14',\n",
      "       'Auteur15', 'Auteur16', 'Auteur17', 'Auteur18', 'Auteur19', 'Auteur20',\n",
      "       'Auteur21', 'Auteur22'],\n",
      "      dtype='object')\n"
     ]
    }
   ],
   "source": [
    "print(df.columns)"
   ]
  },
  {
   "cell_type": "code",
   "execution_count": 18,
   "metadata": {},
   "outputs": [
    {
     "name": "stdout",
     "output_type": "stream",
     "text": [
      "714\n",
      "3183\n",
      "3188\n",
      "178\n"
     ]
    }
   ],
   "source": [
    "print(df['Drukker'].nunique())\n",
    "print(df['Bruidegom'].nunique())\n",
    "print(df['Bruid'].nunique())\n",
    "print(df['Plaats'].nunique())"
   ]
  },
  {
   "cell_type": "code",
   "execution_count": 16,
   "metadata": {},
   "outputs": [],
   "source": [
    "import seaborn as sns\n",
    "import matplotlib as plt"
   ]
  },
  {
   "cell_type": "code",
   "execution_count": 17,
   "metadata": {},
   "outputs": [
    {
     "ename": "AttributeError",
     "evalue": "module 'matplotlib' has no attribute 'scatter'",
     "output_type": "error",
     "traceback": [
      "\u001b[0;31m---------------------------------------------------------------------------\u001b[0m",
      "\u001b[0;31mAttributeError\u001b[0m                            Traceback (most recent call last)",
      "\u001b[0;32m<ipython-input-17-38d58ddf4e78>\u001b[0m in \u001b[0;36m<module>\u001b[0;34m()\u001b[0m\n\u001b[0;32m----> 1\u001b[0;31m \u001b[0mplt\u001b[0m\u001b[0;34m.\u001b[0m\u001b[0mscatter\u001b[0m\u001b[0;34m(\u001b[0m\u001b[0mdf\u001b[0m\u001b[0;34m[\u001b[0m\u001b[0;34m'Jaar'\u001b[0m\u001b[0;34m]\u001b[0m\u001b[0;34m,\u001b[0m \u001b[0mdf\u001b[0m\u001b[0;34m[\u001b[0m\u001b[0;34m'Bruidegom'\u001b[0m\u001b[0;34m]\u001b[0m\u001b[0;34m,\u001b[0m \u001b[0malpha\u001b[0m\u001b[0;34m=\u001b[0m\u001b[0;36m0.3\u001b[0m\u001b[0;34m)\u001b[0m\u001b[0;34m\u001b[0m\u001b[0m\n\u001b[0m\u001b[1;32m      2\u001b[0m \u001b[0mplt\u001b[0m\u001b[0;34m.\u001b[0m\u001b[0mylabel\u001b[0m\u001b[0;34m(\u001b[0m\u001b[0;34m'Gedichten'\u001b[0m\u001b[0;34m)\u001b[0m\u001b[0;34m\u001b[0m\u001b[0m\n\u001b[1;32m      3\u001b[0m \u001b[0mplt\u001b[0m\u001b[0;34m.\u001b[0m\u001b[0mxlabel\u001b[0m\u001b[0;34m(\u001b[0m\u001b[0;34m'Jaar'\u001b[0m\u001b[0;34m)\u001b[0m\u001b[0;34m\u001b[0m\u001b[0m\n\u001b[1;32m      4\u001b[0m \u001b[0mplt\u001b[0m\u001b[0;34m.\u001b[0m\u001b[0mshow\u001b[0m\u001b[0;34m(\u001b[0m\u001b[0;34m)\u001b[0m\u001b[0;34m\u001b[0m\u001b[0m\n",
      "\u001b[0;31mAttributeError\u001b[0m: module 'matplotlib' has no attribute 'scatter'"
     ]
    }
   ],
   "source": [
    "plt.scatter(df['Jaar'], df['Bruidegom'], alpha=0.3)\n",
    "plt.ylabel('Gedichten')\n",
    "plt.xlabel('Jaar')\n",
    "plt.show()"
   ]
  },
  {
   "cell_type": "code",
   "execution_count": null,
   "metadata": {},
   "outputs": [],
   "source": [
    "df.groupby('Drukker').count().sort_values()"
   ]
  },
  {
   "cell_type": "code",
   "execution_count": null,
   "metadata": {},
   "outputs": [],
   "source": []
  },
  {
   "cell_type": "code",
   "execution_count": null,
   "metadata": {},
   "outputs": [],
   "source": []
  },
  {
   "cell_type": "code",
   "execution_count": null,
   "metadata": {},
   "outputs": [],
   "source": []
  }
 ],
 "metadata": {
  "kernelspec": {
   "display_name": "Python 3",
   "language": "python",
   "name": "python3"
  },
  "language_info": {
   "codemirror_mode": {
    "name": "ipython",
    "version": 3
   },
   "file_extension": ".py",
   "mimetype": "text/x-python",
   "name": "python",
   "nbconvert_exporter": "python",
   "pygments_lexer": "ipython3",
   "version": "3.6.5"
  }
 },
 "nbformat": 4,
 "nbformat_minor": 2
}
