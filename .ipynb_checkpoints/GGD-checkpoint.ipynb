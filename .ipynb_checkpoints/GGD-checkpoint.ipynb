{
 "cells": [
  {
   "cell_type": "code",
   "execution_count": 4,
   "metadata": {},
   "outputs": [
    {
     "name": "stdout",
     "output_type": "stream",
     "text": [
      "(3396, 29)\n"
     ]
    }
   ],
   "source": [
    "import pandas as pd\n",
    "import matplotlib.pyplot as plt\n",
    "# plt.style.use('seaborn-whitegrid')\n",
    "import seaborn\n",
    "\n",
    "\n",
    "df = pd.read_csv('gedichtenGGD.csv', sep=';')\n",
    "print(df.shape)"
   ]
  },
  {
   "cell_type": "code",
   "execution_count": 6,
   "metadata": {},
   "outputs": [
    {
     "name": "stdout",
     "output_type": "stream",
     "text": [
      "    0       Datum  Jaar         Bruidegom                         Bruid  \\\n",
      "0   3  1744-09-03  1744     Johan Schorer  Petronella Maria de Beaufort   \n",
      "1   6  1702-07-25  1702   Gerhart Franken     Katharyne Adelheit Moonen   \n",
      "2   9  1729-10-04  1729     Arnold Willis                Alida Gramingh   \n",
      "3  10  1715-09-25  1715  Wessel van Balen                Maria Scholten   \n",
      "4  11  1737-10-15  1737      Marten Blöte            Elisabeth de Bruyn   \n",
      "\n",
      "                Drukker     Plaats                Auteur1  \\\n",
      "0       Petrus Dathenus  Amsterdam  David Fiers Kappeine    \n",
      "1    Arnoldus Curtenius  Amsterdam       Petrus Francius    \n",
      "2         Arnold Willis    Zaandam       Frans Greenwood    \n",
      "3  Hendrik van de Gaete  Amsterdam           Filips Piek    \n",
      "4              De Broen  Amsterdam              P. Blöte    \n",
      "\n",
      "                   Auteur2                  Auteur3   ...    Auteur13  \\\n",
      "0       Johan Steengracht   Lucas Frederik Schorer    ...         NaN   \n",
      "1       Janus Broukhusius    David van Hoogstraten    ...         NaN   \n",
      "2  Kornelis van Koeverden         Daniel van Damme    ...         NaN   \n",
      "3         Abraham de West                      B.S.   ...         NaN   \n",
      "4        J. de (Jr) Bruyn        Jacobus de Laater    ...         NaN   \n",
      "\n",
      "  Auteur14 Auteur15 Auteur16 Auteur17 Auteur18 Auteur19 Auteur20 Auteur21  \\\n",
      "0      NaN      NaN      NaN      NaN      NaN      NaN      NaN      NaN   \n",
      "1      NaN      NaN      NaN      NaN      NaN      NaN      NaN      NaN   \n",
      "2      NaN      NaN      NaN      NaN      NaN      NaN      NaN      NaN   \n",
      "3      NaN      NaN      NaN      NaN      NaN      NaN      NaN      NaN   \n",
      "4      NaN      NaN      NaN      NaN      NaN      NaN      NaN      NaN   \n",
      "\n",
      "  Auteur22  \n",
      "0      NaN  \n",
      "1      NaN  \n",
      "2      NaN  \n",
      "3      NaN  \n",
      "4      NaN  \n",
      "\n",
      "[5 rows x 29 columns]\n"
     ]
    }
   ],
   "source": [
    "print(df.head(5))"
   ]
  },
  {
   "cell_type": "code",
   "execution_count": 9,
   "metadata": {},
   "outputs": [
    {
     "name": "stdout",
     "output_type": "stream",
     "text": [
      "Index(['0', 'Datum', 'Jaar', 'Bruidegom', 'Bruid', 'Drukker', 'Plaats',\n",
      "       'Auteur1', 'Auteur2', 'Auteur3', 'Auteur4', 'Auteur5', 'Auteur6',\n",
      "       'Auteur7', 'Auteur8', 'Auteur9', 'Auteur10', 'Auteur11', 'Auteur12',\n",
      "       'Auteur13', 'Auteur14', 'Auteur15', 'Auteur16', 'Auteur17', 'Auteur18',\n",
      "       'Auteur19', 'Auteur20', 'Auteur21', 'Auteur22'],\n",
      "      dtype='object')\n"
     ]
    }
   ],
   "source": [
    "print(df.columns)"
   ]
  },
  {
   "cell_type": "code",
   "execution_count": null,
   "metadata": {},
   "outputs": [],
   "source": []
  },
  {
   "cell_type": "code",
   "execution_count": null,
   "metadata": {},
   "outputs": [],
   "source": []
  },
  {
   "cell_type": "code",
   "execution_count": null,
   "metadata": {},
   "outputs": [],
   "source": []
  },
  {
   "cell_type": "code",
   "execution_count": null,
   "metadata": {},
   "outputs": [],
   "source": []
  }
 ],
 "metadata": {
  "kernelspec": {
   "display_name": "Python 3",
   "language": "python",
   "name": "python3"
  },
  "language_info": {
   "codemirror_mode": {
    "name": "ipython",
    "version": 3
   },
   "file_extension": ".py",
   "mimetype": "text/x-python",
   "name": "python",
   "nbconvert_exporter": "python",
   "pygments_lexer": "ipython3",
   "version": "3.6.5"
  }
 },
 "nbformat": 4,
 "nbformat_minor": 2
}
