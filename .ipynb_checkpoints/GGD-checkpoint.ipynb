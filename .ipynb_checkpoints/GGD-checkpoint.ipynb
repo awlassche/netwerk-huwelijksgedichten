{
 "cells": [
  {
   "cell_type": "code",
   "execution_count": 6,
   "metadata": {},
   "outputs": [
    {
     "name": "stdout",
     "output_type": "stream",
     "text": [
      "(3933, 27)\n"
     ]
    }
   ],
   "source": [
    "import pandas as pd\n",
    "import matplotlib.pyplot as plt\n",
    "# plt.style.use('seaborn-whitegrid')\n",
    "import seaborn\n",
    "\n",
    "\n",
    "df = pd.read_csv('gedichtenGGD_STCN.csv', sep=';', index_col=0)\n",
    "print(df.shape)"
   ]
  },
  {
   "cell_type": "code",
   "execution_count": 7,
   "metadata": {},
   "outputs": [
    {
     "name": "stdout",
     "output_type": "stream",
     "text": [
      "   Jaar             Bruidegom                         Bruid          Drukker  \\\n",
      "0                                                                              \n",
      "1  1691  Samuel van der Lanen      Maria Magdalena Meermans    Reinier Leers   \n",
      "2  1738     Jacobus Willemsen      Elizabeth Verwout Noiret  Petrus Dathenus   \n",
      "3  1744         Johan Schorer  Petronella Maria de Beaufort  Petrus Dathenus   \n",
      "4  1693       Pieter Koolaert             Elizabeth Hoofman        Lescailje   \n",
      "5  1702         Herman Lufneu                  Anna Amsincq       Barent Bos   \n",
      "\n",
      "      Plaats                 Auteur1                 Auteur2  \\\n",
      "0                                                              \n",
      "1      Hoorn           Pieter Rabus                      NaN   \n",
      "2  Amsterdam       Pieter de La Ruë        Johannes Plevier    \n",
      "3  Amsterdam   David Fiers Kappeine       Johan Steengracht    \n",
      "4        NaN    Katharina Lescailje   David van Hoogstraten    \n",
      "5      Wesel  David van Hoogstraten            Willem Rabus    \n",
      "\n",
      "                   Auteur3              Auteur4                     Auteur5  \\\n",
      "0                                                                             \n",
      "1                      NaN                  NaN                         NaN   \n",
      "2           Isaac Schorer      Nicolaus Barkey   Johannes Nicolaas Treytel    \n",
      "3  Lucas Frederik Schorer      Petrus Dathenus                                \n",
      "4            Joan Pluimer   Hermannus Angelkot                 Jacob Storm    \n",
      "5                      NaN                  NaN                         NaN   \n",
      "\n",
      "    ...    Auteur13 Auteur14 Auteur15 Auteur16 Auteur17 Auteur18 Auteur19  \\\n",
      "0   ...                                                                     \n",
      "1   ...         NaN      NaN      NaN      NaN      NaN      NaN      NaN   \n",
      "2   ...         NaN      NaN      NaN      NaN      NaN      NaN      NaN   \n",
      "3   ...         NaN      NaN      NaN      NaN      NaN      NaN      NaN   \n",
      "4   ...         NaN      NaN      NaN      NaN      NaN      NaN      NaN   \n",
      "5   ...         NaN      NaN      NaN      NaN      NaN      NaN      NaN   \n",
      "\n",
      "  Auteur20 Auteur21 Auteur22  \n",
      "0                             \n",
      "1      NaN      NaN      NaN  \n",
      "2      NaN      NaN      NaN  \n",
      "3      NaN      NaN      NaN  \n",
      "4      NaN      NaN      NaN  \n",
      "5      NaN      NaN      NaN  \n",
      "\n",
      "[5 rows x 27 columns]\n"
     ]
    }
   ],
   "source": [
    "print(df.head(5))"
   ]
  },
  {
   "cell_type": "code",
   "execution_count": 5,
   "metadata": {},
   "outputs": [
    {
     "name": "stdout",
     "output_type": "stream",
     "text": [
      "Index(['0', 'Jaar', 'Bruidegom', 'Bruid', 'Drukker', 'Plaats', 'Auteur1',\n",
      "       'Auteur2', 'Auteur3', 'Auteur4', 'Auteur5', 'Auteur6', 'Auteur7',\n",
      "       'Auteur8', 'Auteur9', 'Auteur10', 'Auteur11', 'Auteur12', 'Auteur13',\n",
      "       'Auteur14', 'Auteur15', 'Auteur16', 'Auteur17', 'Auteur18', 'Auteur19',\n",
      "       'Auteur20', 'Auteur21', 'Auteur22'],\n",
      "      dtype='object')\n"
     ]
    }
   ],
   "source": [
    "print(df.columns)"
   ]
  },
  {
   "cell_type": "code",
   "execution_count": null,
   "metadata": {},
   "outputs": [],
   "source": [
    "df.groupby('Drukker').count().sort_values()"
   ]
  },
  {
   "cell_type": "code",
   "execution_count": null,
   "metadata": {},
   "outputs": [],
   "source": []
  },
  {
   "cell_type": "code",
   "execution_count": null,
   "metadata": {},
   "outputs": [],
   "source": []
  },
  {
   "cell_type": "code",
   "execution_count": null,
   "metadata": {},
   "outputs": [],
   "source": []
  }
 ],
 "metadata": {
  "kernelspec": {
   "display_name": "Python 3",
   "language": "python",
   "name": "python3"
  },
  "language_info": {
   "codemirror_mode": {
    "name": "ipython",
    "version": 3
   },
   "file_extension": ".py",
   "mimetype": "text/x-python",
   "name": "python",
   "nbconvert_exporter": "python",
   "pygments_lexer": "ipython3",
   "version": "3.6.5"
  }
 },
 "nbformat": 4,
 "nbformat_minor": 2
}
