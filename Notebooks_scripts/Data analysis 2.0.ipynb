{
 "cells": [
  {
   "cell_type": "code",
   "execution_count": 1,
   "metadata": {},
   "outputs": [
    {
     "name": "stdout",
     "output_type": "stream",
     "text": [
      "(3696, 31)\n"
     ]
    }
   ],
   "source": [
    "import seaborn as sns\n",
    "import matplotlib as plt\n",
    "import pandas as pd\n",
    "import matplotlib.pyplot as plt\n",
    "# plt.style.use('seaborn-whitegrid')\n",
    "import seaborn as sns\n",
    "\n",
    "\n",
    "df = pd.read_csv('../data/gedichtenGGD_STCN_Steur_stripped.csv', sep=';', index_col=0)\n",
    "print(df.shape)"
   ]
  },
  {
   "cell_type": "code",
   "execution_count": 2,
   "metadata": {},
   "outputs": [
    {
     "data": {
      "text/plain": [
       "Database\n",
       "KB       3382\n",
       "STCN      266\n",
       "Steur      48\n",
       "Name: Database, dtype: int64"
      ]
     },
     "execution_count": 2,
     "metadata": {},
     "output_type": "execute_result"
    }
   ],
   "source": [
    "df.groupby('Database')['Database'].count()"
   ]
  },
  {
   "cell_type": "code",
   "execution_count": null,
   "metadata": {},
   "outputs": [],
   "source": [
    "#df['Alleauteurs'] = df[df.columns[8:30]].apply(\n",
    "    #lambda x: ', '.join(x.dropna().astype(str)),\n",
    "    #axis=1)"
   ]
  },
  {
   "cell_type": "code",
   "execution_count": 3,
   "metadata": {},
   "outputs": [],
   "source": [
    "authors = df['Alleauteurs'].str.get_dummies(sep=', ').sum().sort_values(ascending=False)"
   ]
  },
  {
   "cell_type": "code",
   "execution_count": null,
   "metadata": {},
   "outputs": [],
   "source": [
    "#authors.to_csv('authors.csv', sep=';')"
   ]
  },
  {
   "cell_type": "code",
   "execution_count": 4,
   "metadata": {},
   "outputs": [
    {
     "data": {
      "text/plain": [
       "1      2608\n",
       "2       438\n",
       "3       169\n",
       "4        84\n",
       "5        54\n",
       "6        51\n",
       "7        30\n",
       "8        18\n",
       "10       14\n",
       "9        13\n",
       "12       11\n",
       "13        7\n",
       "14        7\n",
       "11        6\n",
       "16        6\n",
       "15        5\n",
       "21        5\n",
       "17        4\n",
       "27        3\n",
       "33        3\n",
       "19        3\n",
       "18        2\n",
       "26        2\n",
       "28        2\n",
       "20        1\n",
       "22        1\n",
       "65        1\n",
       "73        1\n",
       "38        1\n",
       "42        1\n",
       "102       1\n",
       "108       1\n",
       "114       1\n",
       "61        1\n",
       "79        1\n",
       "25        1\n",
       "43        1\n",
       "47        1\n",
       "49        1\n",
       "167       1\n",
       "dtype: int64"
      ]
     },
     "execution_count": 4,
     "metadata": {},
     "output_type": "execute_result"
    }
   ],
   "source": [
    "authors.value_counts()"
   ]
  },
  {
   "cell_type": "code",
   "execution_count": 5,
   "metadata": {},
   "outputs": [
    {
     "data": {
      "text/plain": [
       "7681"
      ]
     },
     "execution_count": 5,
     "metadata": {},
     "output_type": "execute_result"
    }
   ],
   "source": [
    "authors.sum(axis = 0, skipna = True)"
   ]
  },
  {
   "cell_type": "code",
   "execution_count": 6,
   "metadata": {},
   "outputs": [
    {
     "data": {
      "text/plain": [
       "3561"
      ]
     },
     "execution_count": 6,
     "metadata": {},
     "output_type": "execute_result"
    }
   ],
   "source": [
    "authors.count()"
   ]
  },
  {
   "cell_type": "code",
   "execution_count": 7,
   "metadata": {},
   "outputs": [],
   "source": [
    "printers = df.groupby('Drukker')['Drukker'].count().sort_values(ascending=False)"
   ]
  },
  {
   "cell_type": "code",
   "execution_count": null,
   "metadata": {},
   "outputs": [],
   "source": [
    "#printers.to_csv('printers.csv', sep=';')"
   ]
  },
  {
   "cell_type": "code",
   "execution_count": 8,
   "metadata": {},
   "outputs": [
    {
     "data": {
      "text/plain": [
       "1      330\n",
       "2      121\n",
       "3       49\n",
       "4       33\n",
       "5       22\n",
       "6       19\n",
       "7       14\n",
       "8       10\n",
       "9        6\n",
       "11       3\n",
       "15       3\n",
       "10       3\n",
       "12       3\n",
       "19       2\n",
       "17       2\n",
       "13       2\n",
       "122      1\n",
       "94       1\n",
       "16       1\n",
       "18       1\n",
       "21       1\n",
       "23       1\n",
       "49       1\n",
       "59       1\n",
       "74       1\n",
       "92       1\n",
       "14       1\n",
       "Name: Drukker, dtype: int64"
      ]
     },
     "execution_count": 8,
     "metadata": {},
     "output_type": "execute_result"
    }
   ],
   "source": [
    "printers.value_counts()"
   ]
  },
  {
   "cell_type": "code",
   "execution_count": 9,
   "metadata": {},
   "outputs": [],
   "source": [
    "couples = df.groupby('Bruidspaar')['Bruidspaar'].count().sort_values(ascending=False)"
   ]
  },
  {
   "cell_type": "code",
   "execution_count": 10,
   "metadata": {},
   "outputs": [
    {
     "data": {
      "text/plain": [
       "3696"
      ]
     },
     "execution_count": 10,
     "metadata": {},
     "output_type": "execute_result"
    }
   ],
   "source": [
    "couples.sum(axis = 0, skipna = True)"
   ]
  },
  {
   "cell_type": "code",
   "execution_count": 11,
   "metadata": {},
   "outputs": [
    {
     "data": {
      "text/plain": [
       "3302"
      ]
     },
     "execution_count": 11,
     "metadata": {},
     "output_type": "execute_result"
    }
   ],
   "source": [
    "couples.count()"
   ]
  },
  {
   "cell_type": "code",
   "execution_count": null,
   "metadata": {},
   "outputs": [],
   "source": [
    "#df1.to_csv('Allebruidsparen.csv', sep='\\t')"
   ]
  },
  {
   "cell_type": "code",
   "execution_count": 12,
   "metadata": {},
   "outputs": [
    {
     "data": {
      "text/html": [
       "<div>\n",
       "<style scoped>\n",
       "    .dataframe tbody tr th:only-of-type {\n",
       "        vertical-align: middle;\n",
       "    }\n",
       "\n",
       "    .dataframe tbody tr th {\n",
       "        vertical-align: top;\n",
       "    }\n",
       "\n",
       "    .dataframe thead th {\n",
       "        text-align: right;\n",
       "    }\n",
       "</style>\n",
       "<table border=\"1\" class=\"dataframe\">\n",
       "  <thead>\n",
       "    <tr style=\"text-align: right;\">\n",
       "      <th></th>\n",
       "      <th>Database</th>\n",
       "      <th>Jaar</th>\n",
       "      <th>Bruidegom</th>\n",
       "      <th>Bruid</th>\n",
       "      <th>Bruidspaar</th>\n",
       "      <th>Drukker</th>\n",
       "      <th>Plaats_druk</th>\n",
       "      <th>Plaats_huwelijk</th>\n",
       "      <th>Auteur1</th>\n",
       "      <th>Auteur2</th>\n",
       "      <th>...</th>\n",
       "      <th>Auteur14</th>\n",
       "      <th>Auteur15</th>\n",
       "      <th>Auteur16</th>\n",
       "      <th>Auteur17</th>\n",
       "      <th>Auteur18</th>\n",
       "      <th>Auteur19</th>\n",
       "      <th>Auteur20</th>\n",
       "      <th>Auteur21</th>\n",
       "      <th>Auteur22</th>\n",
       "      <th>Alleauteurs</th>\n",
       "    </tr>\n",
       "    <tr>\n",
       "      <th>0</th>\n",
       "      <th></th>\n",
       "      <th></th>\n",
       "      <th></th>\n",
       "      <th></th>\n",
       "      <th></th>\n",
       "      <th></th>\n",
       "      <th></th>\n",
       "      <th></th>\n",
       "      <th></th>\n",
       "      <th></th>\n",
       "      <th></th>\n",
       "      <th></th>\n",
       "      <th></th>\n",
       "      <th></th>\n",
       "      <th></th>\n",
       "      <th></th>\n",
       "      <th></th>\n",
       "      <th></th>\n",
       "      <th></th>\n",
       "      <th></th>\n",
       "      <th></th>\n",
       "    </tr>\n",
       "  </thead>\n",
       "  <tbody>\n",
       "    <tr>\n",
       "      <th>1111</th>\n",
       "      <td>KB</td>\n",
       "      <td>1600.0</td>\n",
       "      <td>Guilielmus Martigny</td>\n",
       "      <td>Anna Brederode</td>\n",
       "      <td>Guilielmus Martigny &amp; Anna Brederode</td>\n",
       "      <td>Aelbrecht Hendricksz</td>\n",
       "      <td>s-Gravenhage</td>\n",
       "      <td>NaN</td>\n",
       "      <td>Hugo de Groot</td>\n",
       "      <td>NaN</td>\n",
       "      <td>...</td>\n",
       "      <td>NaN</td>\n",
       "      <td>NaN</td>\n",
       "      <td>NaN</td>\n",
       "      <td>NaN</td>\n",
       "      <td>NaN</td>\n",
       "      <td>NaN</td>\n",
       "      <td>NaN</td>\n",
       "      <td>NaN</td>\n",
       "      <td>NaN</td>\n",
       "      <td>Hugo de Groot</td>\n",
       "    </tr>\n",
       "    <tr>\n",
       "      <th>1112</th>\n",
       "      <td>KB</td>\n",
       "      <td>1600.0</td>\n",
       "      <td>Guilielmus Martigny</td>\n",
       "      <td>Anna Brederode</td>\n",
       "      <td>Guilielmus Martigny &amp; Anna Brederode</td>\n",
       "      <td>Aelbrecht Hendricksz</td>\n",
       "      <td>s-Gravenhage</td>\n",
       "      <td>Amsterdam</td>\n",
       "      <td>Johannes Meursius</td>\n",
       "      <td>NaN</td>\n",
       "      <td>...</td>\n",
       "      <td>NaN</td>\n",
       "      <td>NaN</td>\n",
       "      <td>NaN</td>\n",
       "      <td>NaN</td>\n",
       "      <td>NaN</td>\n",
       "      <td>NaN</td>\n",
       "      <td>NaN</td>\n",
       "      <td>NaN</td>\n",
       "      <td>NaN</td>\n",
       "      <td>Johannes Meursius</td>\n",
       "    </tr>\n",
       "    <tr>\n",
       "      <th>676</th>\n",
       "      <td>KB</td>\n",
       "      <td>1601.0</td>\n",
       "      <td>Nicolaas van Hyc</td>\n",
       "      <td>Margareta van den Berch</td>\n",
       "      <td>Nicolaas van Hyc &amp; Margareta van den Berch</td>\n",
       "      <td>Thomas Basson</td>\n",
       "      <td>Leiden</td>\n",
       "      <td>Haarlem</td>\n",
       "      <td>Joachim Cranendonck</td>\n",
       "      <td>NaN</td>\n",
       "      <td>...</td>\n",
       "      <td>NaN</td>\n",
       "      <td>NaN</td>\n",
       "      <td>NaN</td>\n",
       "      <td>NaN</td>\n",
       "      <td>NaN</td>\n",
       "      <td>NaN</td>\n",
       "      <td>NaN</td>\n",
       "      <td>NaN</td>\n",
       "      <td>NaN</td>\n",
       "      <td>Joachim Cranendonck</td>\n",
       "    </tr>\n",
       "    <tr>\n",
       "      <th>1039</th>\n",
       "      <td>KB</td>\n",
       "      <td>1601.0</td>\n",
       "      <td>Henricus van Cranenburg</td>\n",
       "      <td>Johanna van Nieupoort</td>\n",
       "      <td>Henricus van Cranenburg &amp; Johanna van Nieupoort</td>\n",
       "      <td>Christoffel Guyot</td>\n",
       "      <td>Leiden</td>\n",
       "      <td>NaN</td>\n",
       "      <td>Henricus Jonckheyn</td>\n",
       "      <td>Arnoldus And. Pagius</td>\n",
       "      <td>...</td>\n",
       "      <td>NaN</td>\n",
       "      <td>NaN</td>\n",
       "      <td>NaN</td>\n",
       "      <td>NaN</td>\n",
       "      <td>NaN</td>\n",
       "      <td>NaN</td>\n",
       "      <td>NaN</td>\n",
       "      <td>NaN</td>\n",
       "      <td>NaN</td>\n",
       "      <td>Henricus Jonckheyn, Arnoldus And. Pagius</td>\n",
       "    </tr>\n",
       "    <tr>\n",
       "      <th>1040</th>\n",
       "      <td>KB</td>\n",
       "      <td>1602.0</td>\n",
       "      <td>Hugo Laurentius Swaenwijck</td>\n",
       "      <td>Janneken Cornelisd Vroesen</td>\n",
       "      <td>Hugo Laurentius Swaenwijck &amp; Janneken Cornelis...</td>\n",
       "      <td>Christoffel Guyot</td>\n",
       "      <td>Leiden</td>\n",
       "      <td>Amsterdam</td>\n",
       "      <td>Matthaeus Adriaensz Burgius</td>\n",
       "      <td>NaN</td>\n",
       "      <td>...</td>\n",
       "      <td>NaN</td>\n",
       "      <td>NaN</td>\n",
       "      <td>NaN</td>\n",
       "      <td>NaN</td>\n",
       "      <td>NaN</td>\n",
       "      <td>NaN</td>\n",
       "      <td>NaN</td>\n",
       "      <td>NaN</td>\n",
       "      <td>NaN</td>\n",
       "      <td>Matthaeus Adriaensz Burgius</td>\n",
       "    </tr>\n",
       "  </tbody>\n",
       "</table>\n",
       "<p>5 rows × 31 columns</p>\n",
       "</div>"
      ],
      "text/plain": [
       "     Database    Jaar                   Bruidegom                       Bruid  \\\n",
       "0                                                                               \n",
       "1111       KB  1600.0         Guilielmus Martigny              Anna Brederode   \n",
       "1112       KB  1600.0         Guilielmus Martigny              Anna Brederode   \n",
       "676        KB  1601.0            Nicolaas van Hyc     Margareta van den Berch   \n",
       "1039       KB  1601.0     Henricus van Cranenburg       Johanna van Nieupoort   \n",
       "1040       KB  1602.0  Hugo Laurentius Swaenwijck  Janneken Cornelisd Vroesen   \n",
       "\n",
       "                                             Bruidspaar               Drukker  \\\n",
       "0                                                                               \n",
       "1111               Guilielmus Martigny & Anna Brederode  Aelbrecht Hendricksz   \n",
       "1112               Guilielmus Martigny & Anna Brederode  Aelbrecht Hendricksz   \n",
       "676          Nicolaas van Hyc & Margareta van den Berch         Thomas Basson   \n",
       "1039    Henricus van Cranenburg & Johanna van Nieupoort     Christoffel Guyot   \n",
       "1040  Hugo Laurentius Swaenwijck & Janneken Cornelis...     Christoffel Guyot   \n",
       "\n",
       "       Plaats_druk Plaats_huwelijk                      Auteur1  \\\n",
       "0                                                                 \n",
       "1111  s-Gravenhage             NaN                Hugo de Groot   \n",
       "1112  s-Gravenhage       Amsterdam            Johannes Meursius   \n",
       "676         Leiden         Haarlem          Joachim Cranendonck   \n",
       "1039        Leiden             NaN           Henricus Jonckheyn   \n",
       "1040        Leiden       Amsterdam  Matthaeus Adriaensz Burgius   \n",
       "\n",
       "                   Auteur2                    ...                    Auteur14  \\\n",
       "0                                             ...                               \n",
       "1111                   NaN                    ...                         NaN   \n",
       "1112                   NaN                    ...                         NaN   \n",
       "676                    NaN                    ...                         NaN   \n",
       "1039  Arnoldus And. Pagius                    ...                         NaN   \n",
       "1040                   NaN                    ...                         NaN   \n",
       "\n",
       "     Auteur15 Auteur16 Auteur17 Auteur18 Auteur19 Auteur20 Auteur21 Auteur22  \\\n",
       "0                                                                              \n",
       "1111      NaN      NaN      NaN      NaN      NaN      NaN      NaN      NaN   \n",
       "1112      NaN      NaN      NaN      NaN      NaN      NaN      NaN      NaN   \n",
       "676       NaN      NaN      NaN      NaN      NaN      NaN      NaN      NaN   \n",
       "1039      NaN      NaN      NaN      NaN      NaN      NaN      NaN      NaN   \n",
       "1040      NaN      NaN      NaN      NaN      NaN      NaN      NaN      NaN   \n",
       "\n",
       "                                   Alleauteurs  \n",
       "0                                               \n",
       "1111                             Hugo de Groot  \n",
       "1112                         Johannes Meursius  \n",
       "676                        Joachim Cranendonck  \n",
       "1039  Henricus Jonckheyn, Arnoldus And. Pagius  \n",
       "1040               Matthaeus Adriaensz Burgius  \n",
       "\n",
       "[5 rows x 31 columns]"
      ]
     },
     "execution_count": 12,
     "metadata": {},
     "output_type": "execute_result"
    }
   ],
   "source": [
    "df.head()"
   ]
  },
  {
   "cell_type": "code",
   "execution_count": 13,
   "metadata": {},
   "outputs": [],
   "source": [
    "df_year = df[(df['Jaar'] >= 1600)\n",
    "& (df['Jaar'] <= 1760)]"
   ]
  },
  {
   "cell_type": "code",
   "execution_count": 14,
   "metadata": {},
   "outputs": [
    {
     "name": "stderr",
     "output_type": "stream",
     "text": [
      "/Users/alielassche/anaconda3/lib/python3.6/site-packages/matplotlib/axes/_axes.py:6499: MatplotlibDeprecationWarning: \n",
      "The 'normed' kwarg was deprecated in Matplotlib 2.1 and will be removed in 3.1. Use 'density' instead.\n",
      "  alternative=\"'density'\", removal=\"3.1\")\n"
     ]
    },
    {
     "data": {
      "text/plain": [
       "Text(0.5, 1.0, 'Number of booklets per year')"
      ]
     },
     "execution_count": 14,
     "metadata": {},
     "output_type": "execute_result"
    },
    {
     "data": {
      "image/png": "[encoded data removed]",
      "text/plain": [
       "<Figure size 432x288 with 1 Axes>"
      ]
     },
     "metadata": {},
     "output_type": "display_data"
    }
   ],
   "source": [
    "sns.distplot(df_year['Jaar'], kde=False, bins=160)\n",
    "plt.title('Number of booklets per year')\n",
    "# plt.savefig('histyear.png', dpi=300)"
   ]
  },
  {
   "cell_type": "code",
   "execution_count": 15,
   "metadata": {},
   "outputs": [
    {
     "data": {
      "text/plain": [
       "Database              0\n",
       "Jaar                 17\n",
       "Bruidegom             0\n",
       "Bruid                 0\n",
       "Bruidspaar            0\n",
       "Drukker            1565\n",
       "Plaats_druk        1572\n",
       "Plaats_huwelijk     918\n",
       "Auteur1             662\n",
       "Auteur2            2203\n",
       "Auteur3            2660\n",
       "Auteur4            2994\n",
       "Auteur5            3220\n",
       "Auteur6            3364\n",
       "Auteur7            3474\n",
       "Auteur8            3549\n",
       "Auteur9            3594\n",
       "Auteur10           3639\n",
       "Auteur11           3662\n",
       "Auteur12           3675\n",
       "Auteur13           3686\n",
       "Auteur14           3689\n",
       "Auteur15           3691\n",
       "Auteur16           3695\n",
       "Auteur17           3695\n",
       "Auteur18           3695\n",
       "Auteur19           3695\n",
       "Auteur20           3695\n",
       "Auteur21           3695\n",
       "Auteur22           3695\n",
       "Alleauteurs         662\n",
       "dtype: int64"
      ]
     },
     "execution_count": 15,
     "metadata": {},
     "output_type": "execute_result"
    }
   ],
   "source": [
    "df.isna().sum()"
   ]
  },
  {
   "cell_type": "code",
   "execution_count": 16,
   "metadata": {},
   "outputs": [],
   "source": [
    "df['n_authors'] = df.loc[:, 'Auteur1':'Auteur22'].count(axis=1)"
   ]
  },
  {
   "cell_type": "code",
   "execution_count": 17,
   "metadata": {},
   "outputs": [],
   "source": [
    "n_authors_year = df.groupby('Jaar')['n_authors'].mean()"
   ]
  },
  {
   "cell_type": "code",
   "execution_count": 18,
   "metadata": {},
   "outputs": [
    {
     "data": {
      "image/png": "[encoded data removed]",
      "text/plain": [
       "<Figure size 432x288 with 1 Axes>"
      ]
     },
     "metadata": {},
     "output_type": "display_data"
    }
   ],
   "source": [
    "import seaborn as sns\n",
    "df.plot.scatter(x=\"Jaar\", y=\"n_authors\", alpha=0.3)\n",
    "plt.title('Number of authors per booklet')\n",
    "plt.savefig('n_authors.png', dpi=300)"
   ]
  },
  {
   "cell_type": "code",
   "execution_count": 19,
   "metadata": {},
   "outputs": [
    {
     "data": {
      "image/png": "[encoded data removed]",
      "text/plain": [
       "<Figure size 432x288 with 1 Axes>"
      ]
     },
     "metadata": {},
     "output_type": "display_data"
    }
   ],
   "source": [
    "n_authors_year.rolling(window=5).mean().plot()\n",
    "plt.title('Average number of authors per booklet (rolling window=5)')\n",
    "plt.savefig('n_authors_rolling.png', dpi=300)"
   ]
  },
  {
   "cell_type": "code",
   "execution_count": 20,
   "metadata": {},
   "outputs": [],
   "source": [
    "df[['firstname_bride', 'lastname_bride']] = df.Bruid.str.rsplit(' ', 1, expand=True)\n",
    "df[['firstname_groom', 'lastname_groom']] = df.Bruidegom.str.rsplit(' ', 1, expand=True)\n",
    "df[['firstname_printer', 'lastname_printer']] = df.Drukker.str.rsplit(' ', 1, expand=True)"
   ]
  },
  {
   "cell_type": "code",
   "execution_count": 25,
   "metadata": {},
   "outputs": [],
   "source": [
    "df['bride_authors'] = df.fillna('').apply(lambda row: row['lastname_bride'] in row['Alleauteurs'], axis=1)\n",
    "df['groom_authors'] = df.fillna('').apply(lambda row: row['lastname_groom'] in row['Alleauteurs'], axis=1)\n",
    "df['bride_printer'] = df.fillna('').apply(lambda row: row['lastname_bride'] in row['Drukker'], axis=1)\n",
    "df['groom_printer'] = df.fillna('').apply(lambda row: row['lastname_groom'] in row['Drukker'], axis=1)\n",
    "df['Printer_authors'] = df.fillna('').apply(lambda row: row['Drukker'] in row['Alleauteurs'], axis=1)"
   ]
  },
  {
   "cell_type": "code",
   "execution_count": 22,
   "metadata": {},
   "outputs": [
    {
     "data": {
      "text/html": [
       "<div>\n",
       "<style scoped>\n",
       "    .dataframe tbody tr th:only-of-type {\n",
       "        vertical-align: middle;\n",
       "    }\n",
       "\n",
       "    .dataframe tbody tr th {\n",
       "        vertical-align: top;\n",
       "    }\n",
       "\n",
       "    .dataframe thead th {\n",
       "        text-align: right;\n",
       "    }\n",
       "</style>\n",
       "<table border=\"1\" class=\"dataframe\">\n",
       "  <thead>\n",
       "    <tr style=\"text-align: right;\">\n",
       "      <th></th>\n",
       "      <th>Database</th>\n",
       "      <th>Jaar</th>\n",
       "      <th>Bruidegom</th>\n",
       "      <th>Bruid</th>\n",
       "      <th>Bruidspaar</th>\n",
       "      <th>Drukker</th>\n",
       "      <th>Plaats_druk</th>\n",
       "      <th>Plaats_huwelijk</th>\n",
       "      <th>Auteur1</th>\n",
       "      <th>Auteur2</th>\n",
       "      <th>...</th>\n",
       "      <th>lastname_bride</th>\n",
       "      <th>firstname_groom</th>\n",
       "      <th>lastname_groom</th>\n",
       "      <th>firstname_printer</th>\n",
       "      <th>lastname_printer</th>\n",
       "      <th>bride_authors</th>\n",
       "      <th>groom_authors</th>\n",
       "      <th>bride_printer</th>\n",
       "      <th>groom_printer</th>\n",
       "      <th>printer_authors</th>\n",
       "    </tr>\n",
       "    <tr>\n",
       "      <th>0</th>\n",
       "      <th></th>\n",
       "      <th></th>\n",
       "      <th></th>\n",
       "      <th></th>\n",
       "      <th></th>\n",
       "      <th></th>\n",
       "      <th></th>\n",
       "      <th></th>\n",
       "      <th></th>\n",
       "      <th></th>\n",
       "      <th></th>\n",
       "      <th></th>\n",
       "      <th></th>\n",
       "      <th></th>\n",
       "      <th></th>\n",
       "      <th></th>\n",
       "      <th></th>\n",
       "      <th></th>\n",
       "      <th></th>\n",
       "      <th></th>\n",
       "      <th></th>\n",
       "    </tr>\n",
       "  </thead>\n",
       "  <tbody>\n",
       "    <tr>\n",
       "      <th>1111</th>\n",
       "      <td>KB</td>\n",
       "      <td>1600.0</td>\n",
       "      <td>Guilielmus Martigny</td>\n",
       "      <td>Anna Brederode</td>\n",
       "      <td>Guilielmus Martigny &amp; Anna Brederode</td>\n",
       "      <td>Aelbrecht Hendricksz</td>\n",
       "      <td>s-Gravenhage</td>\n",
       "      <td>NaN</td>\n",
       "      <td>Hugo de Groot</td>\n",
       "      <td>NaN</td>\n",
       "      <td>...</td>\n",
       "      <td>Brederode</td>\n",
       "      <td>Guilielmus</td>\n",
       "      <td>Martigny</td>\n",
       "      <td>Aelbrecht</td>\n",
       "      <td>Hendricksz</td>\n",
       "      <td>False</td>\n",
       "      <td>False</td>\n",
       "      <td>False</td>\n",
       "      <td>False</td>\n",
       "      <td>False</td>\n",
       "    </tr>\n",
       "    <tr>\n",
       "      <th>1112</th>\n",
       "      <td>KB</td>\n",
       "      <td>1600.0</td>\n",
       "      <td>Guilielmus Martigny</td>\n",
       "      <td>Anna Brederode</td>\n",
       "      <td>Guilielmus Martigny &amp; Anna Brederode</td>\n",
       "      <td>Aelbrecht Hendricksz</td>\n",
       "      <td>s-Gravenhage</td>\n",
       "      <td>Amsterdam</td>\n",
       "      <td>Johannes Meursius</td>\n",
       "      <td>NaN</td>\n",
       "      <td>...</td>\n",
       "      <td>Brederode</td>\n",
       "      <td>Guilielmus</td>\n",
       "      <td>Martigny</td>\n",
       "      <td>Aelbrecht</td>\n",
       "      <td>Hendricksz</td>\n",
       "      <td>False</td>\n",
       "      <td>False</td>\n",
       "      <td>False</td>\n",
       "      <td>False</td>\n",
       "      <td>False</td>\n",
       "    </tr>\n",
       "    <tr>\n",
       "      <th>676</th>\n",
       "      <td>KB</td>\n",
       "      <td>1601.0</td>\n",
       "      <td>Nicolaas van Hyc</td>\n",
       "      <td>Margareta van den Berch</td>\n",
       "      <td>Nicolaas van Hyc &amp; Margareta van den Berch</td>\n",
       "      <td>Thomas Basson</td>\n",
       "      <td>Leiden</td>\n",
       "      <td>Haarlem</td>\n",
       "      <td>Joachim Cranendonck</td>\n",
       "      <td>NaN</td>\n",
       "      <td>...</td>\n",
       "      <td>Berch</td>\n",
       "      <td>Nicolaas van</td>\n",
       "      <td>Hyc</td>\n",
       "      <td>Thomas</td>\n",
       "      <td>Basson</td>\n",
       "      <td>False</td>\n",
       "      <td>False</td>\n",
       "      <td>False</td>\n",
       "      <td>False</td>\n",
       "      <td>False</td>\n",
       "    </tr>\n",
       "    <tr>\n",
       "      <th>1039</th>\n",
       "      <td>KB</td>\n",
       "      <td>1601.0</td>\n",
       "      <td>Henricus van Cranenburg</td>\n",
       "      <td>Johanna van Nieupoort</td>\n",
       "      <td>Henricus van Cranenburg &amp; Johanna van Nieupoort</td>\n",
       "      <td>Christoffel Guyot</td>\n",
       "      <td>Leiden</td>\n",
       "      <td>NaN</td>\n",
       "      <td>Henricus Jonckheyn</td>\n",
       "      <td>Arnoldus And. Pagius</td>\n",
       "      <td>...</td>\n",
       "      <td>Nieupoort</td>\n",
       "      <td>Henricus van</td>\n",
       "      <td>Cranenburg</td>\n",
       "      <td>Christoffel</td>\n",
       "      <td>Guyot</td>\n",
       "      <td>False</td>\n",
       "      <td>False</td>\n",
       "      <td>False</td>\n",
       "      <td>False</td>\n",
       "      <td>False</td>\n",
       "    </tr>\n",
       "    <tr>\n",
       "      <th>1040</th>\n",
       "      <td>KB</td>\n",
       "      <td>1602.0</td>\n",
       "      <td>Hugo Laurentius Swaenwijck</td>\n",
       "      <td>Janneken Cornelisd Vroesen</td>\n",
       "      <td>Hugo Laurentius Swaenwijck &amp; Janneken Cornelis...</td>\n",
       "      <td>Christoffel Guyot</td>\n",
       "      <td>Leiden</td>\n",
       "      <td>Amsterdam</td>\n",
       "      <td>Matthaeus Adriaensz Burgius</td>\n",
       "      <td>NaN</td>\n",
       "      <td>...</td>\n",
       "      <td>Vroesen</td>\n",
       "      <td>Hugo Laurentius</td>\n",
       "      <td>Swaenwijck</td>\n",
       "      <td>Christoffel</td>\n",
       "      <td>Guyot</td>\n",
       "      <td>False</td>\n",
       "      <td>False</td>\n",
       "      <td>False</td>\n",
       "      <td>False</td>\n",
       "      <td>False</td>\n",
       "    </tr>\n",
       "  </tbody>\n",
       "</table>\n",
       "<p>5 rows × 43 columns</p>\n",
       "</div>"
      ],
      "text/plain": [
       "     Database    Jaar                   Bruidegom                       Bruid  \\\n",
       "0                                                                               \n",
       "1111       KB  1600.0         Guilielmus Martigny              Anna Brederode   \n",
       "1112       KB  1600.0         Guilielmus Martigny              Anna Brederode   \n",
       "676        KB  1601.0            Nicolaas van Hyc     Margareta van den Berch   \n",
       "1039       KB  1601.0     Henricus van Cranenburg       Johanna van Nieupoort   \n",
       "1040       KB  1602.0  Hugo Laurentius Swaenwijck  Janneken Cornelisd Vroesen   \n",
       "\n",
       "                                             Bruidspaar               Drukker  \\\n",
       "0                                                                               \n",
       "1111               Guilielmus Martigny & Anna Brederode  Aelbrecht Hendricksz   \n",
       "1112               Guilielmus Martigny & Anna Brederode  Aelbrecht Hendricksz   \n",
       "676          Nicolaas van Hyc & Margareta van den Berch         Thomas Basson   \n",
       "1039    Henricus van Cranenburg & Johanna van Nieupoort     Christoffel Guyot   \n",
       "1040  Hugo Laurentius Swaenwijck & Janneken Cornelis...     Christoffel Guyot   \n",
       "\n",
       "       Plaats_druk Plaats_huwelijk                      Auteur1  \\\n",
       "0                                                                 \n",
       "1111  s-Gravenhage             NaN                Hugo de Groot   \n",
       "1112  s-Gravenhage       Amsterdam            Johannes Meursius   \n",
       "676         Leiden         Haarlem          Joachim Cranendonck   \n",
       "1039        Leiden             NaN           Henricus Jonckheyn   \n",
       "1040        Leiden       Amsterdam  Matthaeus Adriaensz Burgius   \n",
       "\n",
       "                   Auteur2       ...       lastname_bride  firstname_groom  \\\n",
       "0                                ...                                         \n",
       "1111                   NaN       ...            Brederode       Guilielmus   \n",
       "1112                   NaN       ...            Brederode       Guilielmus   \n",
       "676                    NaN       ...                Berch     Nicolaas van   \n",
       "1039  Arnoldus And. Pagius       ...            Nieupoort     Henricus van   \n",
       "1040                   NaN       ...              Vroesen  Hugo Laurentius   \n",
       "\n",
       "     lastname_groom firstname_printer lastname_printer bride_authors  \\\n",
       "0                                                                      \n",
       "1111       Martigny         Aelbrecht       Hendricksz         False   \n",
       "1112       Martigny         Aelbrecht       Hendricksz         False   \n",
       "676             Hyc            Thomas           Basson         False   \n",
       "1039     Cranenburg       Christoffel            Guyot         False   \n",
       "1040     Swaenwijck       Christoffel            Guyot         False   \n",
       "\n",
       "     groom_authors bride_printer groom_printer printer_authors  \n",
       "0                                                               \n",
       "1111         False         False         False           False  \n",
       "1112         False         False         False           False  \n",
       "676          False         False         False           False  \n",
       "1039         False         False         False           False  \n",
       "1040         False         False         False           False  \n",
       "\n",
       "[5 rows x 43 columns]"
      ]
     },
     "execution_count": 22,
     "metadata": {},
     "output_type": "execute_result"
    }
   ],
   "source": [
    "df.head()"
   ]
  },
  {
   "cell_type": "code",
   "execution_count": 27,
   "metadata": {},
   "outputs": [
    {
     "name": "stdout",
     "output_type": "stream",
     "text": [
      "bride_authors\n",
      "False    3273\n",
      "True      423\n",
      "Name: bride_authors, dtype: int64\n",
      "groom_authors\n",
      "False    3145\n",
      "True      551\n",
      "Name: groom_authors, dtype: int64\n",
      "bride_printer\n",
      "False    3680\n",
      "True       16\n",
      "Name: bride_printer, dtype: int64\n",
      "groom_printer\n",
      "False    3672\n",
      "True       24\n",
      "Name: groom_printer, dtype: int64\n",
      "Printer_authors\n",
      "False    1780\n",
      "True     1916\n",
      "Name: Printer_authors, dtype: int64\n"
     ]
    }
   ],
   "source": [
    "print(df.groupby('bride_authors')['bride_authors'].count())\n",
    "print(df.groupby('groom_authors')['groom_authors'].count())\n",
    "print(df.groupby('bride_printer')['bride_printer'].count())\n",
    "print(df.groupby('groom_printer')['groom_printer'].count())\n",
    "print(df.groupby('Printer_authors')['Printer_authors'].count())"
   ]
  },
  {
   "cell_type": "code",
   "execution_count": null,
   "metadata": {},
   "outputs": [],
   "source": [
    "df.loc[df['bride_authors'] == True]"
   ]
  },
  {
   "cell_type": "code",
   "execution_count": null,
   "metadata": {},
   "outputs": [],
   "source": []
  },
  {
   "cell_type": "code",
   "execution_count": null,
   "metadata": {},
   "outputs": [],
   "source": []
  },
  {
   "cell_type": "code",
   "execution_count": null,
   "metadata": {},
   "outputs": [],
   "source": []
  },
  {
   "cell_type": "code",
   "execution_count": null,
   "metadata": {},
   "outputs": [],
   "source": []
  }
 ],
 "metadata": {
  "kernelspec": {
   "display_name": "Python 3",
   "language": "python",
   "name": "python3"
  },
  "language_info": {
   "codemirror_mode": {
    "name": "ipython",
    "version": 3
   },
   "file_extension": ".py",
   "mimetype": "text/x-python",
   "name": "python",
   "nbconvert_exporter": "python",
   "pygments_lexer": "ipython3",
   "version": "3.6.5"
  }
 },
 "nbformat": 4,
 "nbformat_minor": 2
}
