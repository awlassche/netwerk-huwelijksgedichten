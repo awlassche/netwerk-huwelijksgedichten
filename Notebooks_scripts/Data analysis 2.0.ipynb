{
 "cells": [
  {
   "cell_type": "code",
   "execution_count": 8,
   "metadata": {},
   "outputs": [
    {
     "name": "stdout",
     "output_type": "stream",
     "text": [
      "(3774, 31)\n"
     ]
    }
   ],
   "source": [
    "import seaborn as sns\n",
    "import matplotlib as plt\n",
    "import pandas as pd\n",
    "import matplotlib.pyplot as plt\n",
    "# plt.style.use('seaborn-whitegrid')\n",
    "import seaborn\n",
    "\n",
    "\n",
    "df = pd.read_csv('../data/gedichtenGGD_STCN_Steur_stripped.csv', sep=';', index_col=0)\n",
    "print(df.shape)"
   ]
  },
  {
   "cell_type": "code",
   "execution_count": 9,
   "metadata": {},
   "outputs": [
    {
     "data": {
      "text/plain": [
       "Index(['Database', 'Jaar', 'Bruidegom', 'Bruid', 'Bruidspaar', 'Drukker',\n",
       "       'Plaats_druk', 'Plaats_huwelijk', 'Auteur1', 'Auteur2', 'Auteur3',\n",
       "       'Auteur4', 'Auteur5', 'Auteur6', 'Auteur7', 'Auteur8', 'Auteur9',\n",
       "       'Auteur10', 'Auteur11', 'Auteur12', 'Auteur13', 'Auteur14', 'Auteur15',\n",
       "       'Auteur16', 'Auteur17', 'Auteur18', 'Auteur19', 'Auteur20', 'Auteur21',\n",
       "       'Auteur22', 'Alleauteurs'],\n",
       "      dtype='object')"
      ]
     },
     "execution_count": 9,
     "metadata": {},
     "output_type": "execute_result"
    }
   ],
   "source": [
    "df.columns"
   ]
  },
  {
   "cell_type": "code",
   "execution_count": 10,
   "metadata": {},
   "outputs": [
    {
     "data": {
      "text/plain": [
       "Database\n",
       "KB       3383\n",
       "STCN      332\n",
       "Steur      59\n",
       "Name: Database, dtype: int64"
      ]
     },
     "execution_count": 10,
     "metadata": {},
     "output_type": "execute_result"
    }
   ],
   "source": [
    "df.groupby('Database')['Database'].count()"
   ]
  },
  {
   "cell_type": "code",
   "execution_count": 11,
   "metadata": {},
   "outputs": [
    {
     "data": {
      "text/plain": [
       "Claas Bruin                     167\n",
       "Anthony Jansen                  114\n",
       "Pieter Langendyk                108\n",
       "Joannes Oosterwyk               103\n",
       "Jan Baptista Wellekens           79\n",
       "Willem van der Hoeven            73\n",
       "Hendrik van de Gaete             65\n",
       "David van Hoogstraten            61\n",
       "Hendrik Snakenburg               53\n",
       "Gijsbert Tysens                  47\n",
       "Jacobus van der Strengh          42\n",
       "Jan Geldorp                      42\n",
       "Katharina Lescailje              38\n",
       "Nikolaes Versteeg                34\n",
       "Joannes van Braam                33\n",
       "Ludolph Smids                    33\n",
       "Lucas Pater                      28\n",
       "Harmanus Meyer                   28\n",
       "Hermanus van den Burg            27\n",
       "Kornelis Willemsz Westerbaen     27\n",
       "Gerrit Fortgens                  27\n",
       "Adriaan de Kramer                26\n",
       "Dirk Smits                       26\n",
       "Arnold Hoogvliet                 25\n",
       "Evert Visscher                   22\n",
       "Johannes Meyer                   21\n",
       "Jan Goeree                       21\n",
       "Pieter Vlaming                   21\n",
       "Abraham Titsingh                 21\n",
       "Govert Klinkhamer                21\n",
       "                               ... \n",
       "Jan van Yver Noorlé               1\n",
       "Jan van Varelen                   1\n",
       "Jan van Sterlingh                 1\n",
       "Jan van Staphorst                 1\n",
       "Jan van Norel                     1\n",
       "Jan van Noorlé                    1\n",
       "Jean van der Linde                1\n",
       "Jeanne Rigail                     1\n",
       "Jeremias Hollebeek                1\n",
       "Jeremias van der Grijp            1\n",
       "Joanna Schagen                    1\n",
       "Joanna Katharina van Malsen       1\n",
       "Joan van Tongeren                 1\n",
       "Joan onder de Linden              1\n",
       "Joan de Vicq                      1\n",
       "Joan de Ferro                     1\n",
       "Joan Lubeex                       1\n",
       "Joan Helmans                      1\n",
       "Joan Geelvinck                    1\n",
       "Joan Doncan                       1\n",
       "Joan Casper Gevaerts              1\n",
       "Joan Bouman (Jr)                  1\n",
       "Joan Andriesz Calkoen             1\n",
       "Joachim Oudaen (1716-1787         1\n",
       "Joachim Heinrich Hagemeister      1\n",
       "Jerphs. Jan van Woesik            1\n",
       "Jeronimus Nolthenius              1\n",
       "Jeronimus Balthsz Nolthenius      1\n",
       "Jeremias van der Meer             1\n",
       "A.                                1\n",
       "Length: 3576, dtype: int64"
      ]
     },
     "execution_count": 11,
     "metadata": {},
     "output_type": "execute_result"
    }
   ],
   "source": [
    "df['Alleauteurs'].str.get_dummies(sep=', ').sum().sort_values(ascending=False)"
   ]
  },
  {
   "cell_type": "code",
   "execution_count": 6,
   "metadata": {},
   "outputs": [],
   "source": [
    "df1 = df.groupby('Bruidspaar')['Bruidspaar'].count().sort_values(ascending=False)"
   ]
  },
  {
   "cell_type": "code",
   "execution_count": 7,
   "metadata": {},
   "outputs": [],
   "source": [
    "df1.to_csv('Allebruidsparen.csv', sep='\\t')"
   ]
  },
  {
   "cell_type": "code",
   "execution_count": null,
   "metadata": {},
   "outputs": [],
   "source": []
  }
 ],
 "metadata": {
  "kernelspec": {
   "display_name": "Python 3",
   "language": "python",
   "name": "python3"
  },
  "language_info": {
   "codemirror_mode": {
    "name": "ipython",
    "version": 3
   },
   "file_extension": ".py",
   "mimetype": "text/x-python",
   "name": "python",
   "nbconvert_exporter": "python",
   "pygments_lexer": "ipython3",
   "version": "3.6.5"
  }
 },
 "nbformat": 4,
 "nbformat_minor": 2
}
