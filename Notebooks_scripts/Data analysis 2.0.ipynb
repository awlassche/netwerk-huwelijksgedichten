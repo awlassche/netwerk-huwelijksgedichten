{
 "cells": [
  {
   "cell_type": "code",
   "execution_count": 13,
   "metadata": {},
   "outputs": [
    {
     "name": "stdout",
     "output_type": "stream",
     "text": [
      "(4003, 31)\n"
     ]
    }
   ],
   "source": [
    "import seaborn as sns\n",
    "import matplotlib as plt\n",
    "import pandas as pd\n",
    "import matplotlib.pyplot as plt\n",
    "# plt.style.use('seaborn-whitegrid')\n",
    "import seaborn\n",
    "\n",
    "\n",
    "df = pd.read_csv('../data/gedichtenGGD_STCN_Steur_stripped.csv', sep=';', index_col=0)\n",
    "print(df.shape)"
   ]
  },
  {
   "cell_type": "code",
   "execution_count": 14,
   "metadata": {},
   "outputs": [
    {
     "data": {
      "text/plain": [
       "Index(['Database', 'Jaar', 'Bruidegom', 'Bruid', 'Bruidspaar', 'Drukker',\n",
       "       'Plaats_druk', 'Plaats_huwelijk', 'Auteur1', 'Auteur2', 'Auteur3',\n",
       "       'Auteur4', 'Auteur5', 'Auteur6', 'Auteur7', 'Auteur8', 'Auteur9',\n",
       "       'Auteur10', 'Auteur11', 'Auteur12', 'Auteur13', 'Auteur14', 'Auteur15',\n",
       "       'Auteur16', 'Auteur17', 'Auteur18', 'Auteur19', 'Auteur20', 'Auteur21',\n",
       "       'Auteur22', 'Alleauteurs'],\n",
       "      dtype='object')"
      ]
     },
     "execution_count": 14,
     "metadata": {},
     "output_type": "execute_result"
    }
   ],
   "source": [
    "df.columns"
   ]
  },
  {
   "cell_type": "code",
   "execution_count": 15,
   "metadata": {},
   "outputs": [
    {
     "data": {
      "text/plain": [
       "Database\n",
       "KB       3393\n",
       "STCN      519\n",
       "Steur      91\n",
       "Name: Database, dtype: int64"
      ]
     },
     "execution_count": 15,
     "metadata": {},
     "output_type": "execute_result"
    }
   ],
   "source": [
    "df.groupby('Database')['Database'].count()"
   ]
  },
  {
   "cell_type": "code",
   "execution_count": 12,
   "metadata": {},
   "outputs": [
    {
     "data": {
      "text/plain": [
       "Claas Bruin                     167\n",
       "Anthony Jansen                  114\n",
       "Pieter Langendyk                108\n",
       "Joannes Oosterwyk               104\n",
       "Jan Baptista Wellekens           79\n",
       "Willem van der Hoeven            74\n",
       "Hendrik van de Gaete             65\n",
       "David van Hoogstraten            62\n",
       "Hendrik Snakenburg               55\n",
       "Gijsbert Tysens                  47\n",
       "Jan Geldorp                      43\n",
       "Jacobus van der Strengh          42\n",
       "Katharina Lescailje              39\n",
       "Nikolaes Versteeg                34\n",
       "Joannes van Braam                34\n",
       "Ludolph Smids                    33\n",
       "Harmanus Meyer                   28\n",
       "Lucas Pater                      28\n",
       "Gerrit Fortgens                  28\n",
       "Hermanus van den Burg            27\n",
       "Kornelis Willemsz Westerbaen     27\n",
       "Dirk Smits                       26\n",
       "Adriaan de Kramer                26\n",
       "Arnold Hoogvliet                 25\n",
       "Evert Visscher                   22\n",
       "Pieter Vlaming                   21\n",
       "Jan Goeree                       21\n",
       "Johannes Meyer                   21\n",
       "Abraham Titsingh                 21\n",
       "Govert Klinkhamer                21\n",
       "                               ... \n",
       "Jan van Varelen                   1\n",
       "Jan van Sterlingh                 1\n",
       "Jan van Staphorst                 1\n",
       "Jan van Norel                     1\n",
       "Jan van Noorlé                    1\n",
       "Jan van Markel                    1\n",
       "Jean Rigail (Jr)                  1\n",
       "Jean Théodore Blondeau            1\n",
       "Jean van der Linde                1\n",
       "Jeanne Rigail                     1\n",
       "Joan onder de Linden              1\n",
       "Joan de Vicq                      1\n",
       "Joan de Ferro                     1\n",
       "Joan Lubeex                       1\n",
       "Joan Helmans                      1\n",
       "Joan Geelvinck                    1\n",
       "Joan Doncan                       1\n",
       "Joan Casper Gevaerts              1\n",
       "Joan Bouman (Jr)                  1\n",
       "Joan Andriesz Calkoen             1\n",
       "Joachim Oudaen (1716-1787         1\n",
       "Joachim Heinrich Hagemeister      1\n",
       "Jn Der Kinderen                   1\n",
       "Jerphs. Jan van Woesik            1\n",
       "Jeronimus Nolthenius              1\n",
       "Jeronimus Balthsz Nolthenius      1\n",
       "Jeremias van der Meer             1\n",
       "Jeremias van der Grijp            1\n",
       "Jeremias Hollebeek                1\n",
       "A.                                1\n",
       "Length: 3634, dtype: int64"
      ]
     },
     "execution_count": 12,
     "metadata": {},
     "output_type": "execute_result"
    }
   ],
   "source": [
    "df['Alleauteurs'].str.get_dummies(sep=', ').sum().sort_values(ascending=False)"
   ]
  },
  {
   "cell_type": "code",
   "execution_count": 17,
   "metadata": {},
   "outputs": [],
   "source": [
    "df1 = df.groupby('Bruidspaar')['Bruidspaar'].count().sort_values(ascending=False)"
   ]
  },
  {
   "cell_type": "code",
   "execution_count": 18,
   "metadata": {},
   "outputs": [],
   "source": [
    "df1.to_csv('Allebruidsparen.csv', sep='\\t')"
   ]
  },
  {
   "cell_type": "code",
   "execution_count": null,
   "metadata": {},
   "outputs": [],
   "source": []
  }
 ],
 "metadata": {
  "kernelspec": {
   "display_name": "Python 3",
   "language": "python",
   "name": "python3"
  },
  "language_info": {
   "codemirror_mode": {
    "name": "ipython",
    "version": 3
   },
   "file_extension": ".py",
   "mimetype": "text/x-python",
   "name": "python",
   "nbconvert_exporter": "python",
   "pygments_lexer": "ipython3",
   "version": "3.6.5"
  }
 },
 "nbformat": 4,
 "nbformat_minor": 2
}
