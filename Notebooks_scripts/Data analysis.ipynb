{
 "cells": [
  {
   "cell_type": "code",
   "execution_count": 1,
   "metadata": {},
   "outputs": [
    {
     "name": "stdout",
     "output_type": "stream",
     "text": [
      "(4022, 30)\n"
     ]
    }
   ],
   "source": [
    "import seaborn as sns\n",
    "import matplotlib as plt\n",
    "import pandas as pd\n",
    "import matplotlib.pyplot as plt\n",
    "# plt.style.use('seaborn-whitegrid')\n",
    "import seaborn\n",
    "\n",
    "\n",
    "df = pd.read_csv('../data/gedichtenGGD_STCN_Steur.csv', sep=';', index_col=0)\n",
    "print(df.shape)"
   ]
  },
  {
   "cell_type": "code",
   "execution_count": 2,
   "metadata": {},
   "outputs": [
    {
     "data": {
      "text/plain": [
       "Index(['Database', 'Jaar', 'Bruidegom', 'Bruid', 'Bruidspaar', 'Drukker',\n",
       "       'Plaats_druk', 'Plaats_huwelijk', 'Auteur1', 'Auteur2', 'Auteur3',\n",
       "       'Auteur4', 'Auteur5', 'Auteur6', 'Auteur7', 'Auteur8', 'Auteur9',\n",
       "       'Auteur10', 'Auteur11', 'Auteur12', 'Auteur13', 'Auteur14', 'Auteur15',\n",
       "       'Auteur16', 'Auteur17', 'Auteur18', 'Auteur19', 'Auteur20', 'Auteur21',\n",
       "       'Auteur22'],\n",
       "      dtype='object')"
      ]
     },
     "execution_count": 2,
     "metadata": {},
     "output_type": "execute_result"
    }
   ],
   "source": [
    "df.columns"
   ]
  },
  {
   "cell_type": "code",
   "execution_count": 3,
   "metadata": {},
   "outputs": [],
   "source": [
    "df1 = df.groupby('Drukker')['Drukker'].count().sort_values(ascending=False)"
   ]
  },
  {
   "cell_type": "code",
   "execution_count": 4,
   "metadata": {},
   "outputs": [],
   "source": [
    "df1.to_csv('Drukkers.csv', sep='\\t')"
   ]
  },
  {
   "cell_type": "code",
   "execution_count": 5,
   "metadata": {},
   "outputs": [],
   "source": [
    "df2 = df.groupby('Plaats_druk')['Plaats_druk'].count().sort_values(ascending=False)"
   ]
  },
  {
   "cell_type": "code",
   "execution_count": 6,
   "metadata": {},
   "outputs": [],
   "source": [
    "df2.to_csv('Drukplaatsen.csv', sep='\\t')"
   ]
  },
  {
   "cell_type": "code",
   "execution_count": 7,
   "metadata": {},
   "outputs": [],
   "source": [
    "for column in df:\n",
    "    df[column] = df[column].str.strip()"
   ]
  },
  {
   "cell_type": "code",
   "execution_count": 8,
   "metadata": {},
   "outputs": [],
   "source": [
    "df['Alleauteurs'] = df[df.columns[8:30]].apply(\n",
    "    lambda x: ', '.join(x.dropna().astype(str)),\n",
    "    axis=1)"
   ]
  },
  {
   "cell_type": "code",
   "execution_count": 9,
   "metadata": {},
   "outputs": [
    {
     "data": {
      "text/html": [
       "<div>\n",
       "<style scoped>\n",
       "    .dataframe tbody tr th:only-of-type {\n",
       "        vertical-align: middle;\n",
       "    }\n",
       "\n",
       "    .dataframe tbody tr th {\n",
       "        vertical-align: top;\n",
       "    }\n",
       "\n",
       "    .dataframe thead th {\n",
       "        text-align: right;\n",
       "    }\n",
       "</style>\n",
       "<table border=\"1\" class=\"dataframe\">\n",
       "  <thead>\n",
       "    <tr style=\"text-align: right;\">\n",
       "      <th></th>\n",
       "      <th>Database</th>\n",
       "      <th>Jaar</th>\n",
       "      <th>Bruidegom</th>\n",
       "      <th>Bruid</th>\n",
       "      <th>Bruidspaar</th>\n",
       "      <th>Drukker</th>\n",
       "      <th>Plaats_druk</th>\n",
       "      <th>Plaats_huwelijk</th>\n",
       "      <th>Auteur1</th>\n",
       "      <th>Auteur2</th>\n",
       "      <th>...</th>\n",
       "      <th>Auteur14</th>\n",
       "      <th>Auteur15</th>\n",
       "      <th>Auteur16</th>\n",
       "      <th>Auteur17</th>\n",
       "      <th>Auteur18</th>\n",
       "      <th>Auteur19</th>\n",
       "      <th>Auteur20</th>\n",
       "      <th>Auteur21</th>\n",
       "      <th>Auteur22</th>\n",
       "      <th>Alleauteurs</th>\n",
       "    </tr>\n",
       "    <tr>\n",
       "      <th>0</th>\n",
       "      <th></th>\n",
       "      <th></th>\n",
       "      <th></th>\n",
       "      <th></th>\n",
       "      <th></th>\n",
       "      <th></th>\n",
       "      <th></th>\n",
       "      <th></th>\n",
       "      <th></th>\n",
       "      <th></th>\n",
       "      <th></th>\n",
       "      <th></th>\n",
       "      <th></th>\n",
       "      <th></th>\n",
       "      <th></th>\n",
       "      <th></th>\n",
       "      <th></th>\n",
       "      <th></th>\n",
       "      <th></th>\n",
       "      <th></th>\n",
       "      <th></th>\n",
       "    </tr>\n",
       "  </thead>\n",
       "  <tbody>\n",
       "    <tr>\n",
       "      <th>7</th>\n",
       "      <td>KB</td>\n",
       "      <td>1710</td>\n",
       "      <td>Pieter Gys (1678-1759)</td>\n",
       "      <td>Maria van den Bergh</td>\n",
       "      <td>Pieter Gys (1678-1759) &amp; Maria van den Bergh</td>\n",
       "      <td>NaN</td>\n",
       "      <td>NaN</td>\n",
       "      <td>Amsterdam</td>\n",
       "      <td>Govard Bidloo</td>\n",
       "      <td>Hendrik Snakenburg</td>\n",
       "      <td>...</td>\n",
       "      <td>NaN</td>\n",
       "      <td>NaN</td>\n",
       "      <td>NaN</td>\n",
       "      <td>NaN</td>\n",
       "      <td>NaN</td>\n",
       "      <td>NaN</td>\n",
       "      <td>NaN</td>\n",
       "      <td>NaN</td>\n",
       "      <td>NaN</td>\n",
       "      <td>Govard Bidloo, Hendrik Snakenburg</td>\n",
       "    </tr>\n",
       "    <tr>\n",
       "      <th>24</th>\n",
       "      <td>KB</td>\n",
       "      <td>1725</td>\n",
       "      <td>Lucas Bardon</td>\n",
       "      <td>Anna Groenewoud</td>\n",
       "      <td>Lucas Bardon &amp; Anna Groenewoud</td>\n",
       "      <td>NaN</td>\n",
       "      <td>NaN</td>\n",
       "      <td>Amsterdam</td>\n",
       "      <td>Pieter Langendyk</td>\n",
       "      <td>NaN</td>\n",
       "      <td>...</td>\n",
       "      <td>NaN</td>\n",
       "      <td>NaN</td>\n",
       "      <td>NaN</td>\n",
       "      <td>NaN</td>\n",
       "      <td>NaN</td>\n",
       "      <td>NaN</td>\n",
       "      <td>NaN</td>\n",
       "      <td>NaN</td>\n",
       "      <td>NaN</td>\n",
       "      <td>Pieter Langendyk</td>\n",
       "    </tr>\n",
       "    <tr>\n",
       "      <th>25</th>\n",
       "      <td>KB</td>\n",
       "      <td>1720</td>\n",
       "      <td>Cornelis Izaaksz van den Bogaerd</td>\n",
       "      <td>Christina Willink</td>\n",
       "      <td>Cornelis Izaaksz van den Bogaerd &amp; Christina W...</td>\n",
       "      <td>NaN</td>\n",
       "      <td>NaN</td>\n",
       "      <td>Amsterdam</td>\n",
       "      <td>A. Izaaksz van den Bogaerd</td>\n",
       "      <td>Claas Bruin</td>\n",
       "      <td>...</td>\n",
       "      <td>NaN</td>\n",
       "      <td>NaN</td>\n",
       "      <td>NaN</td>\n",
       "      <td>NaN</td>\n",
       "      <td>NaN</td>\n",
       "      <td>NaN</td>\n",
       "      <td>NaN</td>\n",
       "      <td>NaN</td>\n",
       "      <td>NaN</td>\n",
       "      <td>A. Izaaksz van den Bogaerd, Claas Bruin, Piete...</td>\n",
       "    </tr>\n",
       "    <tr>\n",
       "      <th>32</th>\n",
       "      <td>KB</td>\n",
       "      <td>1721</td>\n",
       "      <td>Abraham van Limburg</td>\n",
       "      <td>Anna Giffenig</td>\n",
       "      <td>Abraham van Limburg &amp; Anna Giffenig</td>\n",
       "      <td>NaN</td>\n",
       "      <td>NaN</td>\n",
       "      <td>Leiden</td>\n",
       "      <td>J. van Tol</td>\n",
       "      <td>Hendrik Fouree</td>\n",
       "      <td>...</td>\n",
       "      <td>NaN</td>\n",
       "      <td>NaN</td>\n",
       "      <td>NaN</td>\n",
       "      <td>NaN</td>\n",
       "      <td>NaN</td>\n",
       "      <td>NaN</td>\n",
       "      <td>NaN</td>\n",
       "      <td>NaN</td>\n",
       "      <td>NaN</td>\n",
       "      <td>J. van Tol, Hendrik Fouree, David Giffenig, Jo...</td>\n",
       "    </tr>\n",
       "    <tr>\n",
       "      <th>34</th>\n",
       "      <td>KB</td>\n",
       "      <td>1728</td>\n",
       "      <td>Gerrit Onstenk</td>\n",
       "      <td>Maria van den Ende</td>\n",
       "      <td>Gerrit Onstenk &amp; Maria van den Ende</td>\n",
       "      <td>NaN</td>\n",
       "      <td>NaN</td>\n",
       "      <td>Amsterdam</td>\n",
       "      <td>Willem Onstenk</td>\n",
       "      <td>Magdalena Mansveld</td>\n",
       "      <td>...</td>\n",
       "      <td>NaN</td>\n",
       "      <td>NaN</td>\n",
       "      <td>NaN</td>\n",
       "      <td>NaN</td>\n",
       "      <td>NaN</td>\n",
       "      <td>NaN</td>\n",
       "      <td>NaN</td>\n",
       "      <td>NaN</td>\n",
       "      <td>NaN</td>\n",
       "      <td>Willem Onstenk, Magdalena Mansveld, Enoch Krook</td>\n",
       "    </tr>\n",
       "  </tbody>\n",
       "</table>\n",
       "<p>5 rows × 31 columns</p>\n",
       "</div>"
      ],
      "text/plain": [
       "   Database  Jaar                         Bruidegom                Bruid  \\\n",
       "0                                                                          \n",
       "7        KB  1710            Pieter Gys (1678-1759)  Maria van den Bergh   \n",
       "24       KB  1725                      Lucas Bardon      Anna Groenewoud   \n",
       "25       KB  1720  Cornelis Izaaksz van den Bogaerd    Christina Willink   \n",
       "32       KB  1721               Abraham van Limburg        Anna Giffenig   \n",
       "34       KB  1728                    Gerrit Onstenk   Maria van den Ende   \n",
       "\n",
       "                                           Bruidspaar Drukker Plaats_druk  \\\n",
       "0                                                                           \n",
       "7        Pieter Gys (1678-1759) & Maria van den Bergh     NaN         NaN   \n",
       "24                     Lucas Bardon & Anna Groenewoud     NaN         NaN   \n",
       "25  Cornelis Izaaksz van den Bogaerd & Christina W...     NaN         NaN   \n",
       "32                Abraham van Limburg & Anna Giffenig     NaN         NaN   \n",
       "34                Gerrit Onstenk & Maria van den Ende     NaN         NaN   \n",
       "\n",
       "   Plaats_huwelijk                     Auteur1             Auteur2  \\\n",
       "0                                                                    \n",
       "7        Amsterdam               Govard Bidloo  Hendrik Snakenburg   \n",
       "24       Amsterdam            Pieter Langendyk                 NaN   \n",
       "25       Amsterdam  A. Izaaksz van den Bogaerd         Claas Bruin   \n",
       "32          Leiden                  J. van Tol      Hendrik Fouree   \n",
       "34       Amsterdam              Willem Onstenk  Magdalena Mansveld   \n",
       "\n",
       "                          ...                         Auteur14 Auteur15  \\\n",
       "0                         ...                                             \n",
       "7                         ...                              NaN      NaN   \n",
       "24                        ...                              NaN      NaN   \n",
       "25                        ...                              NaN      NaN   \n",
       "32                        ...                              NaN      NaN   \n",
       "34                        ...                              NaN      NaN   \n",
       "\n",
       "   Auteur16 Auteur17 Auteur18 Auteur19 Auteur20 Auteur21 Auteur22  \\\n",
       "0                                                                   \n",
       "7       NaN      NaN      NaN      NaN      NaN      NaN      NaN   \n",
       "24      NaN      NaN      NaN      NaN      NaN      NaN      NaN   \n",
       "25      NaN      NaN      NaN      NaN      NaN      NaN      NaN   \n",
       "32      NaN      NaN      NaN      NaN      NaN      NaN      NaN   \n",
       "34      NaN      NaN      NaN      NaN      NaN      NaN      NaN   \n",
       "\n",
       "                                          Alleauteurs  \n",
       "0                                                      \n",
       "7                   Govard Bidloo, Hendrik Snakenburg  \n",
       "24                                   Pieter Langendyk  \n",
       "25  A. Izaaksz van den Bogaerd, Claas Bruin, Piete...  \n",
       "32  J. van Tol, Hendrik Fouree, David Giffenig, Jo...  \n",
       "34    Willem Onstenk, Magdalena Mansveld, Enoch Krook  \n",
       "\n",
       "[5 rows x 31 columns]"
      ]
     },
     "execution_count": 9,
     "metadata": {},
     "output_type": "execute_result"
    }
   ],
   "source": [
    "df.head()"
   ]
  },
  {
   "cell_type": "code",
   "execution_count": 10,
   "metadata": {},
   "outputs": [],
   "source": [
    "df3 = df['Alleauteurs'].str.get_dummies(sep=', ').sum().sort_values(ascending=False)"
   ]
  },
  {
   "cell_type": "code",
   "execution_count": 11,
   "metadata": {},
   "outputs": [],
   "source": [
    "df3.to_csv('Alleauteurs.csv', sep='\\t')"
   ]
  },
  {
   "cell_type": "code",
   "execution_count": 12,
   "metadata": {},
   "outputs": [
    {
     "data": {
      "image/png": "[encoded data removed]",
      "text/plain": [
       "<Figure size 432x288 with 1 Axes>"
      ]
     },
     "metadata": {},
     "output_type": "display_data"
    }
   ],
   "source": [
    "fig1 = df.groupby('Jaar').count()['Bruidspaar'].plot(kind='bar', rot=90)\n",
    "plt.title('Poems by year')\n",
    "plt.xlabel('years')\n",
    "plt.ylabel('poems')\n",
    "fig1.axes.get_xaxis().set_ticks([])\n",
    "fig1.axes.get_yaxis().set_ticks([])\n",
    "plt.savefig('poemsbyyear.png', dp1=600)"
   ]
  },
  {
   "cell_type": "code",
   "execution_count": 13,
   "metadata": {},
   "outputs": [
    {
     "data": {
      "text/plain": [
       "Jaar\n",
       "1600     2\n",
       "1601     2\n",
       "1602     1\n",
       "1603     2\n",
       "1604     2\n",
       "1605     1\n",
       "1606     1\n",
       "1608     4\n",
       "1609     3\n",
       "1610     1\n",
       "1611     2\n",
       "1612     7\n",
       "1613     4\n",
       "1614     7\n",
       "1615    14\n",
       "1616    12\n",
       "1617    17\n",
       "1618    34\n",
       "1619    13\n",
       "1620     4\n",
       "1621     5\n",
       "1622     5\n",
       "1623     5\n",
       "1624     3\n",
       "1626     2\n",
       "1627     8\n",
       "1628     7\n",
       "1629     6\n",
       "1630    10\n",
       "1631     9\n",
       "        ..\n",
       "1732    59\n",
       "1733    66\n",
       "1734    40\n",
       "1735    40\n",
       "1736    24\n",
       "1737    32\n",
       "1738    42\n",
       "1739    30\n",
       "1740    32\n",
       "1741    35\n",
       "1742    49\n",
       "1743    43\n",
       "1744    37\n",
       "1745    34\n",
       "1746    57\n",
       "1747    36\n",
       "1748    42\n",
       "1749    43\n",
       "1750    82\n",
       "1751    50\n",
       "1752    43\n",
       "1753    38\n",
       "1754    26\n",
       "1755    26\n",
       "1756    40\n",
       "1757    49\n",
       "1758    24\n",
       "1759    32\n",
       "1760    21\n",
       "17XX    12\n",
       "Name: Jaar, Length: 162, dtype: int64"
      ]
     },
     "execution_count": 13,
     "metadata": {},
     "output_type": "execute_result"
    }
   ],
   "source": [
    "df.groupby('Jaar')['Jaar'].count()"
   ]
  },
  {
   "cell_type": "code",
   "execution_count": 14,
   "metadata": {},
   "outputs": [],
   "source": [
    "df.to_csv('gedichtenGGD_STCN_Steur_stripped.csv', sep=';')"
   ]
  },
  {
   "cell_type": "code",
   "execution_count": null,
   "metadata": {},
   "outputs": [],
   "source": []
  },
  {
   "cell_type": "code",
   "execution_count": null,
   "metadata": {},
   "outputs": [],
   "source": []
  }
 ],
 "metadata": {
  "kernelspec": {
   "display_name": "Python 3",
   "language": "python",
   "name": "python3"
  },
  "language_info": {
   "codemirror_mode": {
    "name": "ipython",
    "version": 3
   },
   "file_extension": ".py",
   "mimetype": "text/x-python",
   "name": "python",
   "nbconvert_exporter": "python",
   "pygments_lexer": "ipython3",
   "version": "3.6.5"
  }
 },
 "nbformat": 4,
 "nbformat_minor": 2
}
