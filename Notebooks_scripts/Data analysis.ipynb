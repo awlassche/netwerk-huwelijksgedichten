{
 "cells": [
  {
   "cell_type": "code",
   "execution_count": 1,
   "metadata": {},
   "outputs": [
    {
     "name": "stdout",
     "output_type": "stream",
     "text": [
      "(4013, 28)\n"
     ]
    }
   ],
   "source": [
    "import seaborn as sns\n",
    "import matplotlib as plt\n",
    "import pandas as pd\n",
    "import matplotlib.pyplot as plt\n",
    "# plt.style.use('seaborn-whitegrid')\n",
    "import seaborn\n",
    "\n",
    "\n",
    "df = pd.read_csv('../data/gedichtenGGD_STCN_Steur.csv', sep=';', index_col=0)\n",
    "print(df.shape)"
   ]
  },
  {
   "cell_type": "code",
   "execution_count": 2,
   "metadata": {},
   "outputs": [
    {
     "data": {
      "text/plain": [
       "Index(['Jaar', 'Bruidegom', 'Bruid', 'Bruidspaar', 'Drukker', 'Plaats',\n",
       "       'Auteur1', 'Auteur2', 'Auteur3', 'Auteur4', 'Auteur5', 'Auteur6',\n",
       "       'Auteur7', 'Auteur8', 'Auteur9', 'Auteur10', 'Auteur11', 'Auteur12',\n",
       "       'Auteur13', 'Auteur14', 'Auteur15', 'Auteur16', 'Auteur17', 'Auteur18',\n",
       "       'Auteur19', 'Auteur20', 'Auteur21', 'Auteur22'],\n",
       "      dtype='object')"
      ]
     },
     "execution_count": 2,
     "metadata": {},
     "output_type": "execute_result"
    }
   ],
   "source": [
    "df.columns"
   ]
  },
  {
   "cell_type": "code",
   "execution_count": 3,
   "metadata": {},
   "outputs": [],
   "source": [
    "df1 = df.groupby('Drukker')['Drukker'].count().sort_values(ascending=False)"
   ]
  },
  {
   "cell_type": "code",
   "execution_count": 4,
   "metadata": {},
   "outputs": [],
   "source": [
    "df1.to_csv('Drukkers.csv', sep='\\t')"
   ]
  },
  {
   "cell_type": "code",
   "execution_count": 5,
   "metadata": {},
   "outputs": [],
   "source": [
    "df2 = df.groupby('Plaats')['Plaats'].count().sort_values(ascending=False)"
   ]
  },
  {
   "cell_type": "code",
   "execution_count": 6,
   "metadata": {},
   "outputs": [],
   "source": [
    "df2.to_csv('Plaatsen.csv', sep='\\t')"
   ]
  },
  {
   "cell_type": "code",
   "execution_count": 7,
   "metadata": {},
   "outputs": [],
   "source": [
    "for column in df:\n",
    "    df[column] = df[column].str.strip()"
   ]
  },
  {
   "cell_type": "code",
   "execution_count": 8,
   "metadata": {},
   "outputs": [],
   "source": [
    "df['Alleauteurs'] = df[df.columns[6:30]].apply(\n",
    "    lambda x: ', '.join(x.dropna().astype(str)),\n",
    "    axis=1)"
   ]
  },
  {
   "cell_type": "code",
   "execution_count": 9,
   "metadata": {},
   "outputs": [
    {
     "data": {
      "text/html": [
       "<div>\n",
       "<style scoped>\n",
       "    .dataframe tbody tr th:only-of-type {\n",
       "        vertical-align: middle;\n",
       "    }\n",
       "\n",
       "    .dataframe tbody tr th {\n",
       "        vertical-align: top;\n",
       "    }\n",
       "\n",
       "    .dataframe thead th {\n",
       "        text-align: right;\n",
       "    }\n",
       "</style>\n",
       "<table border=\"1\" class=\"dataframe\">\n",
       "  <thead>\n",
       "    <tr style=\"text-align: right;\">\n",
       "      <th></th>\n",
       "      <th>Jaar</th>\n",
       "      <th>Bruidegom</th>\n",
       "      <th>Bruid</th>\n",
       "      <th>Bruidspaar</th>\n",
       "      <th>Drukker</th>\n",
       "      <th>Plaats</th>\n",
       "      <th>Auteur1</th>\n",
       "      <th>Auteur2</th>\n",
       "      <th>Auteur3</th>\n",
       "      <th>Auteur4</th>\n",
       "      <th>...</th>\n",
       "      <th>Auteur14</th>\n",
       "      <th>Auteur15</th>\n",
       "      <th>Auteur16</th>\n",
       "      <th>Auteur17</th>\n",
       "      <th>Auteur18</th>\n",
       "      <th>Auteur19</th>\n",
       "      <th>Auteur20</th>\n",
       "      <th>Auteur21</th>\n",
       "      <th>Auteur22</th>\n",
       "      <th>Alleauteurs</th>\n",
       "    </tr>\n",
       "    <tr>\n",
       "      <th>0</th>\n",
       "      <th></th>\n",
       "      <th></th>\n",
       "      <th></th>\n",
       "      <th></th>\n",
       "      <th></th>\n",
       "      <th></th>\n",
       "      <th></th>\n",
       "      <th></th>\n",
       "      <th></th>\n",
       "      <th></th>\n",
       "      <th></th>\n",
       "      <th></th>\n",
       "      <th></th>\n",
       "      <th></th>\n",
       "      <th></th>\n",
       "      <th></th>\n",
       "      <th></th>\n",
       "      <th></th>\n",
       "      <th></th>\n",
       "      <th></th>\n",
       "      <th></th>\n",
       "    </tr>\n",
       "  </thead>\n",
       "  <tbody>\n",
       "    <tr>\n",
       "      <th>1</th>\n",
       "      <td>1691</td>\n",
       "      <td>Samuel van der Lanen</td>\n",
       "      <td>Maria Magdalena Meermans</td>\n",
       "      <td>Samuel van der Lanen &amp; Maria Magdalena Meermans</td>\n",
       "      <td>Reinier Leers</td>\n",
       "      <td>Hoorn</td>\n",
       "      <td>Pieter Rabus</td>\n",
       "      <td>NaN</td>\n",
       "      <td>NaN</td>\n",
       "      <td>NaN</td>\n",
       "      <td>...</td>\n",
       "      <td>NaN</td>\n",
       "      <td>NaN</td>\n",
       "      <td>NaN</td>\n",
       "      <td>NaN</td>\n",
       "      <td>NaN</td>\n",
       "      <td>NaN</td>\n",
       "      <td>NaN</td>\n",
       "      <td>NaN</td>\n",
       "      <td>NaN</td>\n",
       "      <td>Pieter Rabus</td>\n",
       "    </tr>\n",
       "    <tr>\n",
       "      <th>2</th>\n",
       "      <td>1738</td>\n",
       "      <td>Jacobus Willemsen</td>\n",
       "      <td>Elizabeth Verwout Noiret</td>\n",
       "      <td>Jacobus Willemsen &amp; Elizabeth Verwout Noiret</td>\n",
       "      <td>Petrus Dathenus</td>\n",
       "      <td>Amsterdam</td>\n",
       "      <td>Pieter de La Ruë</td>\n",
       "      <td>Johannes Plevier</td>\n",
       "      <td>Isaac Schorer</td>\n",
       "      <td>Nicolaus Barkey</td>\n",
       "      <td>...</td>\n",
       "      <td>NaN</td>\n",
       "      <td>NaN</td>\n",
       "      <td>NaN</td>\n",
       "      <td>NaN</td>\n",
       "      <td>NaN</td>\n",
       "      <td>NaN</td>\n",
       "      <td>NaN</td>\n",
       "      <td>NaN</td>\n",
       "      <td>NaN</td>\n",
       "      <td>Pieter de La Ruë, Johannes Plevier, Isaac Scho...</td>\n",
       "    </tr>\n",
       "    <tr>\n",
       "      <th>3</th>\n",
       "      <td>1744</td>\n",
       "      <td>Johan Schorer</td>\n",
       "      <td>Petronella Maria de Beaufort</td>\n",
       "      <td>Johan Schorer &amp; Petronella Maria de Beaufort</td>\n",
       "      <td>Petrus Dathenus</td>\n",
       "      <td>Amsterdam</td>\n",
       "      <td>David Fiers Kappeine</td>\n",
       "      <td>Johan Steengracht</td>\n",
       "      <td>Lucas Frederik Schorer</td>\n",
       "      <td>Petrus Dathenus</td>\n",
       "      <td>...</td>\n",
       "      <td>NaN</td>\n",
       "      <td>NaN</td>\n",
       "      <td>NaN</td>\n",
       "      <td>NaN</td>\n",
       "      <td>NaN</td>\n",
       "      <td>NaN</td>\n",
       "      <td>NaN</td>\n",
       "      <td>NaN</td>\n",
       "      <td>NaN</td>\n",
       "      <td>David Fiers Kappeine, Johan Steengracht, Lucas...</td>\n",
       "    </tr>\n",
       "    <tr>\n",
       "      <th>4</th>\n",
       "      <td>1693</td>\n",
       "      <td>Pieter Koolaert</td>\n",
       "      <td>Elizabeth Hoofman</td>\n",
       "      <td>Pieter Koolaert &amp; Elizabeth Hoofman</td>\n",
       "      <td>Lescailje</td>\n",
       "      <td>NaN</td>\n",
       "      <td>Katharina Lescailje</td>\n",
       "      <td>David van Hoogstraten</td>\n",
       "      <td>Joan Pluimer</td>\n",
       "      <td>Hermannus Angelkot</td>\n",
       "      <td>...</td>\n",
       "      <td>NaN</td>\n",
       "      <td>NaN</td>\n",
       "      <td>NaN</td>\n",
       "      <td>NaN</td>\n",
       "      <td>NaN</td>\n",
       "      <td>NaN</td>\n",
       "      <td>NaN</td>\n",
       "      <td>NaN</td>\n",
       "      <td>NaN</td>\n",
       "      <td>Katharina Lescailje, David van Hoogstraten, Jo...</td>\n",
       "    </tr>\n",
       "    <tr>\n",
       "      <th>5</th>\n",
       "      <td>1702</td>\n",
       "      <td>Herman Lufneu</td>\n",
       "      <td>Anna Amsincq</td>\n",
       "      <td>Herman Lufneu &amp; Anna Amsincq</td>\n",
       "      <td>Barent Bos</td>\n",
       "      <td>Wesel</td>\n",
       "      <td>David van Hoogstraten</td>\n",
       "      <td>Willem Rabus</td>\n",
       "      <td>NaN</td>\n",
       "      <td>NaN</td>\n",
       "      <td>...</td>\n",
       "      <td>NaN</td>\n",
       "      <td>NaN</td>\n",
       "      <td>NaN</td>\n",
       "      <td>NaN</td>\n",
       "      <td>NaN</td>\n",
       "      <td>NaN</td>\n",
       "      <td>NaN</td>\n",
       "      <td>NaN</td>\n",
       "      <td>NaN</td>\n",
       "      <td>David van Hoogstraten, Willem Rabus</td>\n",
       "    </tr>\n",
       "  </tbody>\n",
       "</table>\n",
       "<p>5 rows × 29 columns</p>\n",
       "</div>"
      ],
      "text/plain": [
       "   Jaar             Bruidegom                         Bruid  \\\n",
       "0                                                             \n",
       "1  1691  Samuel van der Lanen      Maria Magdalena Meermans   \n",
       "2  1738     Jacobus Willemsen      Elizabeth Verwout Noiret   \n",
       "3  1744         Johan Schorer  Petronella Maria de Beaufort   \n",
       "4  1693       Pieter Koolaert             Elizabeth Hoofman   \n",
       "5  1702         Herman Lufneu                  Anna Amsincq   \n",
       "\n",
       "                                        Bruidspaar          Drukker  \\\n",
       "0                                                                     \n",
       "1  Samuel van der Lanen & Maria Magdalena Meermans    Reinier Leers   \n",
       "2     Jacobus Willemsen & Elizabeth Verwout Noiret  Petrus Dathenus   \n",
       "3     Johan Schorer & Petronella Maria de Beaufort  Petrus Dathenus   \n",
       "4              Pieter Koolaert & Elizabeth Hoofman        Lescailje   \n",
       "5                     Herman Lufneu & Anna Amsincq       Barent Bos   \n",
       "\n",
       "      Plaats                Auteur1                Auteur2  \\\n",
       "0                                                            \n",
       "1      Hoorn           Pieter Rabus                    NaN   \n",
       "2  Amsterdam       Pieter de La Ruë       Johannes Plevier   \n",
       "3  Amsterdam   David Fiers Kappeine      Johan Steengracht   \n",
       "4        NaN    Katharina Lescailje  David van Hoogstraten   \n",
       "5      Wesel  David van Hoogstraten           Willem Rabus   \n",
       "\n",
       "                  Auteur3             Auteur4  \\\n",
       "0                                               \n",
       "1                     NaN                 NaN   \n",
       "2           Isaac Schorer     Nicolaus Barkey   \n",
       "3  Lucas Frederik Schorer     Petrus Dathenus   \n",
       "4            Joan Pluimer  Hermannus Angelkot   \n",
       "5                     NaN                 NaN   \n",
       "\n",
       "                         ...                         Auteur14 Auteur15  \\\n",
       "0                        ...                                             \n",
       "1                        ...                              NaN      NaN   \n",
       "2                        ...                              NaN      NaN   \n",
       "3                        ...                              NaN      NaN   \n",
       "4                        ...                              NaN      NaN   \n",
       "5                        ...                              NaN      NaN   \n",
       "\n",
       "  Auteur16 Auteur17 Auteur18 Auteur19 Auteur20 Auteur21 Auteur22  \\\n",
       "0                                                                  \n",
       "1      NaN      NaN      NaN      NaN      NaN      NaN      NaN   \n",
       "2      NaN      NaN      NaN      NaN      NaN      NaN      NaN   \n",
       "3      NaN      NaN      NaN      NaN      NaN      NaN      NaN   \n",
       "4      NaN      NaN      NaN      NaN      NaN      NaN      NaN   \n",
       "5      NaN      NaN      NaN      NaN      NaN      NaN      NaN   \n",
       "\n",
       "                                         Alleauteurs  \n",
       "0                                                     \n",
       "1                                       Pieter Rabus  \n",
       "2  Pieter de La Ruë, Johannes Plevier, Isaac Scho...  \n",
       "3  David Fiers Kappeine, Johan Steengracht, Lucas...  \n",
       "4  Katharina Lescailje, David van Hoogstraten, Jo...  \n",
       "5                David van Hoogstraten, Willem Rabus  \n",
       "\n",
       "[5 rows x 29 columns]"
      ]
     },
     "execution_count": 9,
     "metadata": {},
     "output_type": "execute_result"
    }
   ],
   "source": [
    "df.head()"
   ]
  },
  {
   "cell_type": "code",
   "execution_count": 10,
   "metadata": {},
   "outputs": [],
   "source": [
    "df3 = df['Alleauteurs'].str.get_dummies(sep=', ').sum().sort_values(ascending=False)"
   ]
  },
  {
   "cell_type": "code",
   "execution_count": 11,
   "metadata": {},
   "outputs": [],
   "source": [
    "df3.to_csv('Alleauteurs.csv', sep='\\t')"
   ]
  },
  {
   "cell_type": "code",
   "execution_count": 26,
   "metadata": {},
   "outputs": [
    {
     "data": {
      "text/plain": [
       "[]"
      ]
     },
     "execution_count": 26,
     "metadata": {},
     "output_type": "execute_result"
    },
    {
     "data": {
      "image/png": "[encoded data removed]",
      "text/plain": [
       "<Figure size 432x288 with 1 Axes>"
      ]
     },
     "metadata": {},
     "output_type": "display_data"
    }
   ],
   "source": [
    "fig1 = df.groupby('Jaar').count()['Bruidspaar'].plot(kind='bar', rot=90)\n",
    "plt.title('Poems by year')\n",
    "plt.xlabel('years')\n",
    "plt.ylabel('poems')\n",
    "fig1.axes.get_xaxis().set_ticks([])\n",
    "fig1.axes.get_yaxis().set_ticks([])"
   ]
  },
  {
   "cell_type": "code",
   "execution_count": null,
   "metadata": {},
   "outputs": [],
   "source": []
  },
  {
   "cell_type": "code",
   "execution_count": null,
   "metadata": {},
   "outputs": [],
   "source": []
  },
  {
   "cell_type": "code",
   "execution_count": null,
   "metadata": {},
   "outputs": [],
   "source": []
  }
 ],
 "metadata": {
  "kernelspec": {
   "display_name": "Python 3",
   "language": "python",
   "name": "python3"
  },
  "language_info": {
   "codemirror_mode": {
    "name": "ipython",
    "version": 3
   },
   "file_extension": ".py",
   "mimetype": "text/x-python",
   "name": "python",
   "nbconvert_exporter": "python",
   "pygments_lexer": "ipython3",
   "version": "3.6.5"
  }
 },
 "nbformat": 4,
 "nbformat_minor": 2
}
